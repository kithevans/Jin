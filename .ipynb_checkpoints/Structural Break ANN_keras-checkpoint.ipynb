{
 "cells": [
  {
   "cell_type": "code",
   "execution_count": 1,
   "metadata": {},
   "outputs": [],
   "source": [
    "import numpy as np\n",
    "import os, shutil\n",
    "import tensorflow as tf\n",
    "import pandas as pd\n",
    "import random\n",
    "import tensorflow.keras.backend as K\n",
    "\n",
    "# to make this notebook's output stable across runs\n",
    "def reset_graph(seed=42):\n",
    "    K.clear_session()\n",
    "    tf.random.set_seed(seed)\n",
    "    np.random.seed(seed)\n",
    "    random.seed(seed)\n",
    "    os.environ['PYTHONHASHSEED']=str(seed)\n",
    "\n",
    "%matplotlib inline\n",
    "import matplotlib\n",
    "import matplotlib.pyplot as plt"
   ]
  },
  {
   "cell_type": "code",
   "execution_count": 2,
   "metadata": {},
   "outputs": [],
   "source": [
    "os.environ[\"CUDA_DEVICE_ORDER\"] = \"PCI_BUS_ID\"\n",
    "os.environ[\"CUDA_VISIBLE_DEVICES\"] = \"-1\""
   ]
  },
  {
   "cell_type": "code",
   "execution_count": 3,
   "metadata": {},
   "outputs": [],
   "source": [
    "HH = pd.read_csv('HH_daily.csv')\n",
    "WTI = pd.read_csv('WTI_daily.csv')\n",
    "gold = pd.read_csv('COMEX_Gold_daily.csv')\n",
    "copper = pd.read_csv('COMEX_Copper_daily.csv')\n",
    "nickel = pd.read_csv('Nickel_daily.csv')\n",
    "zinc = pd.read_csv('Zinc_daily.csv')"
   ]
  },
  {
   "cell_type": "markdown",
   "metadata": {},
   "source": [
    "# HH"
   ]
  },
  {
   "cell_type": "code",
   "execution_count": 4,
   "metadata": {},
   "outputs": [],
   "source": [
    "HH.dropna(inplace=True)\n",
    "HH.reset_index(drop=True,inplace=True)"
   ]
  },
  {
   "cell_type": "code",
   "execution_count": 5,
   "metadata": {
    "scrolled": true
   },
   "outputs": [],
   "source": [
    "num = 5\n",
    "\n",
    "lags = range(1, (1+num))\n",
    "HH = HH.assign(**{\n",
    "    '{} (t-{})'.format('HH_daily', t): HH[\"HH_daily\"].shift(t)\n",
    "    for t in lags\n",
    "})"
   ]
  },
  {
   "cell_type": "code",
   "execution_count": 6,
   "metadata": {},
   "outputs": [],
   "source": [
    "for i in range(num):\n",
    "    HH.drop([i],inplace=True)\n",
    "\n",
    "HH.reset_index(drop=True,inplace=True)"
   ]
  },
  {
   "cell_type": "code",
   "execution_count": 7,
   "metadata": {},
   "outputs": [],
   "source": [
    "HH1 = HH.loc[:int((len(HH)-1)*0.2209241),]\n",
    "HH2 = HH.loc[int((len(HH)-1)*0.2209241)+1:int((len(HH)-1)*0.2710214),]\n",
    "HH3 = HH.loc[int((len(HH)-1)*0.2710214)+1:int((len(HH)-1)*0.3218269),]\n",
    "HH4 = HH.loc[int((len(HH)-1)*0.3218269)+1:int((len(HH)-1)*0.7072048),]\n",
    "HH5 = HH.loc[int((len(HH)-1)*0.7072048)+1:int((len(HH)-1)*0.7571252),]\n",
    "HH6 = HH.loc[int((len(HH)-1)*0.7571252)+1:int((len(HH)-1)*0.9355638),]\n",
    "HH7 = HH.loc[int((len(HH)-1)*0.9355638)+1:len(HH)-251,]"
   ]
  },
  {
   "cell_type": "code",
   "execution_count": 107,
   "metadata": {},
   "outputs": [],
   "source": [
    "frames = [HH5,HH6,HH7]\n",
    "HH_predict = pd.concat(frames)\n",
    "HH_forecasting = HH.loc[(len(HH)-250):len(HH),:]"
   ]
  },
  {
   "cell_type": "code",
   "execution_count": 108,
   "metadata": {},
   "outputs": [],
   "source": [
    "X_train = HH_predict.drop(\"HH_daily\", axis=1)\n",
    "X_train = X_train.drop(\"Date\", axis=1)\n",
    "y_train = HH_predict[\"HH_daily\"].values\n",
    "X_forecast = HH_forecasting.drop(\"HH_daily\", axis=1)\n",
    "X_forecast = X_forecast.drop(\"Date\", axis=1)\n",
    "y_forecast = HH_forecasting[\"HH_daily\"].values"
   ]
  },
  {
   "cell_type": "markdown",
   "metadata": {},
   "source": [
    "# WTI"
   ]
  },
  {
   "cell_type": "code",
   "execution_count": 3,
   "metadata": {},
   "outputs": [],
   "source": [
    "WTI.dropna(inplace=True)\n",
    "WTI.reset_index(drop=True,inplace=True)"
   ]
  },
  {
   "cell_type": "code",
   "execution_count": 16,
   "metadata": {},
   "outputs": [],
   "source": [
    "num = 2\n",
    "\n",
    "lags = range(1, (1+num))\n",
    "WTI = WTI.assign(**{\n",
    "    '{} (t-{})'.format('WTI_daily', t): WTI[\"WTI_daily\"].shift(t)\n",
    "    for t in lags\n",
    "})"
   ]
  },
  {
   "cell_type": "code",
   "execution_count": 17,
   "metadata": {},
   "outputs": [],
   "source": [
    "for i in range(num):\n",
    "    WTI.drop([i],inplace=True)\n",
    "\n",
    "WTI.reset_index(drop=True,inplace=True)"
   ]
  },
  {
   "cell_type": "code",
   "execution_count": 22,
   "metadata": {},
   "outputs": [],
   "source": [
    "WTI1 = WTI.loc[:int((len(WTI)-1)*0.6731817),]\n",
    "WTI2 = WTI.loc[int((len(WTI)-1)*0.6731817)+1:int((len(WTI)-1)*0.7288557),]\n",
    "WTI3 = WTI.loc[int((len(WTI)-1)*0.7288557)+1:int((len(WTI)-1)*0.8534707),]\n",
    "WTI4 = WTI.loc[int((len(WTI)-1)*0.8534707)+1:len(WTI)-251,]"
   ]
  },
  {
   "cell_type": "code",
   "execution_count": 27,
   "metadata": {},
   "outputs": [],
   "source": [
    "frames = [WTI2,WTI3,WTI4]\n",
    "WTI_predict = pd.concat(frames)\n",
    "WTI_forecasting = WTI.loc[(len(WTI)-250):len(WTI),:]"
   ]
  },
  {
   "cell_type": "code",
   "execution_count": 30,
   "metadata": {},
   "outputs": [],
   "source": [
    "X_train = WTI_predict.drop(\"WTI_daily\", axis=1)\n",
    "X_train = X_train.drop(\"Date\", axis=1)\n",
    "y_train = WTI_predict[\"WTI_daily\"].values\n",
    "X_forecast = WTI_forecasting.drop(\"WTI_daily\", axis=1)\n",
    "X_forecast = X_forecast.drop(\"Date\", axis=1)\n",
    "y_forecast = WTI_forecasting[\"WTI_daily\"].values"
   ]
  },
  {
   "cell_type": "markdown",
   "metadata": {},
   "source": [
    "# Gold"
   ]
  },
  {
   "cell_type": "code",
   "execution_count": 41,
   "metadata": {},
   "outputs": [],
   "source": [
    "gold.dropna(inplace=True)\n",
    "gold.reset_index(drop=True,inplace=True)"
   ]
  },
  {
   "cell_type": "code",
   "execution_count": 43,
   "metadata": {},
   "outputs": [],
   "source": [
    "num = 1\n",
    "\n",
    "lags = range(1, (1+num))\n",
    "gold = gold.assign(**{\n",
    "    '{} (t-{})'.format('Gold', t): gold[\"Gold\"].shift(t)\n",
    "    for t in lags\n",
    "})"
   ]
  },
  {
   "cell_type": "code",
   "execution_count": 44,
   "metadata": {},
   "outputs": [],
   "source": [
    "for i in range(num):\n",
    "    gold.drop([i],inplace=True)\n",
    "\n",
    "gold.reset_index(drop=True,inplace=True)"
   ]
  },
  {
   "cell_type": "code",
   "execution_count": 50,
   "metadata": {},
   "outputs": [],
   "source": [
    "gold1 = gold.loc[:int((len(gold)-1)*0.3824164),]\n",
    "gold2 = gold.loc[int((len(gold)-1)*0.3824164)+1:int((len(gold)-1)*0.4997303),]\n",
    "gold3 = gold.loc[int((len(gold)-1)*0.4997303)+1:len(gold)-251,]"
   ]
  },
  {
   "cell_type": "code",
   "execution_count": 51,
   "metadata": {},
   "outputs": [],
   "source": [
    "frames = [gold2,gold3]\n",
    "gold_predict = pd.concat(frames)\n",
    "gold_forecasting = gold.loc[(len(gold)-250):len(gold),:]"
   ]
  },
  {
   "cell_type": "code",
   "execution_count": 52,
   "metadata": {},
   "outputs": [],
   "source": [
    "X_train = gold_predict.drop(\"Gold\", axis=1)\n",
    "X_train = X_train.drop(\"Date\", axis=1)\n",
    "y_train = gold_predict[\"Gold\"].values\n",
    "X_forecast = gold_forecasting.drop(\"Gold\", axis=1)\n",
    "X_forecast = X_forecast.drop(\"Date\", axis=1)\n",
    "y_forecast = gold_forecasting[\"Gold\"].values"
   ]
  },
  {
   "cell_type": "markdown",
   "metadata": {},
   "source": [
    "# Copper"
   ]
  },
  {
   "cell_type": "code",
   "execution_count": 3,
   "metadata": {},
   "outputs": [],
   "source": [
    "copper.dropna(inplace=True)\n",
    "copper.reset_index(drop=True,inplace=True)"
   ]
  },
  {
   "cell_type": "code",
   "execution_count": 4,
   "metadata": {},
   "outputs": [],
   "source": [
    "num = 2\n",
    "\n",
    "lags = range(1, (1+num))\n",
    "copper = copper.assign(**{\n",
    "    '{} (t-{})'.format('Copper', t): copper[\"Copper\"].shift(t)\n",
    "    for t in lags\n",
    "})"
   ]
  },
  {
   "cell_type": "code",
   "execution_count": 5,
   "metadata": {},
   "outputs": [],
   "source": [
    "for i in range(num):\n",
    "    copper.drop([i],inplace=True)\n",
    "\n",
    "copper.reset_index(drop=True,inplace=True)"
   ]
  },
  {
   "cell_type": "code",
   "execution_count": 6,
   "metadata": {},
   "outputs": [],
   "source": [
    "copper1 = copper.loc[:int((len(copper)-1)*0.3531537),]\n",
    "copper2 = copper.loc[int((len(copper)-1)*0.3531537)+1:int((len(copper)-1)*0.4390108),]\n",
    "copper3 = copper.loc[int((len(copper)-1)*0.4390108)+1:len(copper)-251,]"
   ]
  },
  {
   "cell_type": "code",
   "execution_count": 7,
   "metadata": {},
   "outputs": [],
   "source": [
    "frames = [copper2,copper3]\n",
    "copper_predict = pd.concat(frames)\n",
    "copper_forecasting = copper.loc[(len(copper)-250):len(copper),:]"
   ]
  },
  {
   "cell_type": "code",
   "execution_count": 8,
   "metadata": {},
   "outputs": [],
   "source": [
    "X_train = copper_predict.drop(\"Copper\", axis=1)\n",
    "X_train = X_train.drop(\"Date\", axis=1)\n",
    "y_train = copper_predict[\"Copper\"].values\n",
    "X_forecast = copper_forecasting.drop(\"Copper\", axis=1)\n",
    "X_forecast = X_forecast.drop(\"Date\", axis=1)\n",
    "y_forecast = copper_forecasting[\"Copper\"].values"
   ]
  },
  {
   "cell_type": "markdown",
   "metadata": {},
   "source": [
    "# Nickel"
   ]
  },
  {
   "cell_type": "code",
   "execution_count": 69,
   "metadata": {},
   "outputs": [],
   "source": [
    "nickel.dropna(inplace=True)\n",
    "nickel.reset_index(drop=True,inplace=True)"
   ]
  },
  {
   "cell_type": "code",
   "execution_count": 70,
   "metadata": {},
   "outputs": [],
   "source": [
    "num = 1\n",
    "\n",
    "lags = range(1, (1+num))\n",
    "nickel = nickel.assign(**{\n",
    "    '{} (t-{})'.format('Nickel', t): nickel[\"Nickel\"].shift(t)\n",
    "    for t in lags\n",
    "})"
   ]
  },
  {
   "cell_type": "code",
   "execution_count": 71,
   "metadata": {},
   "outputs": [],
   "source": [
    "for i in range(num):\n",
    "    nickel.drop([i],inplace=True)\n",
    "\n",
    "nickel.reset_index(drop=True,inplace=True)"
   ]
  },
  {
   "cell_type": "code",
   "execution_count": 72,
   "metadata": {},
   "outputs": [],
   "source": [
    "nickel1 = nickel.loc[:int((len(nickel)-1)*0.3346603),]\n",
    "nickel2 = nickel.loc[int((len(nickel)-1)*0.3346603)+1:int((len(nickel)-1)*0.3870754),]\n",
    "nickel3 = nickel.loc[int((len(nickel)-1)*0.3870754)+1:len(nickel)-251,]"
   ]
  },
  {
   "cell_type": "code",
   "execution_count": 73,
   "metadata": {},
   "outputs": [],
   "source": [
    "frames = [nickel2,nickel3]\n",
    "nickel_predict = pd.concat(frames)\n",
    "nickel_forecasting = nickel.loc[(len(nickel)-250):len(nickel),:]"
   ]
  },
  {
   "cell_type": "code",
   "execution_count": 74,
   "metadata": {},
   "outputs": [],
   "source": [
    "X_train = nickel_predict.drop(\"Nickel\", axis=1)\n",
    "X_train = X_train.drop(\"Date\", axis=1)\n",
    "y_train = nickel_predict[\"Nickel\"].values\n",
    "X_forecast = nickel_forecasting.drop(\"Nickel\", axis=1)\n",
    "X_forecast = X_forecast.drop(\"Date\", axis=1)\n",
    "y_forecast = nickel_forecasting[\"Nickel\"].values"
   ]
  },
  {
   "cell_type": "markdown",
   "metadata": {},
   "source": [
    "# Zinc"
   ]
  },
  {
   "cell_type": "code",
   "execution_count": 75,
   "metadata": {},
   "outputs": [],
   "source": [
    "zinc.dropna(inplace=True)\n",
    "zinc.reset_index(drop=True,inplace=True)"
   ]
  },
  {
   "cell_type": "code",
   "execution_count": 76,
   "metadata": {},
   "outputs": [],
   "source": [
    "num = 1\n",
    "\n",
    "lags = range(1, (1+num))\n",
    "zinc = zinc.assign(**{\n",
    "    '{} (t-{})'.format('Zinc', t): zinc[\"Zinc\"].shift(t)\n",
    "    for t in lags\n",
    "})"
   ]
  },
  {
   "cell_type": "code",
   "execution_count": 77,
   "metadata": {},
   "outputs": [],
   "source": [
    "for i in range(num):\n",
    "    zinc.drop([i],inplace=True)\n",
    "\n",
    "zinc.reset_index(drop=True,inplace=True)"
   ]
  },
  {
   "cell_type": "code",
   "execution_count": 81,
   "metadata": {},
   "outputs": [],
   "source": [
    "zinc1 = zinc.loc[:int((len(zinc)-1)*0.3694411),]\n",
    "zinc2 = zinc.loc[int((len(zinc)-1)*0.3694411)+1:int((len(zinc)-1)*0.4212133),]\n",
    "zinc3 = zinc.loc[int((len(zinc)-1)*0.4212133)+1:int((len(zinc)-1)*0.4741803),]\n",
    "zinc4 = zinc.loc[int((len(zinc)-1)*0.4741803)+1:len(zinc)-251,]"
   ]
  },
  {
   "cell_type": "code",
   "execution_count": 82,
   "metadata": {},
   "outputs": [],
   "source": [
    "frames = [zinc2,zinc3,zinc4]\n",
    "zinc_predict = pd.concat(frames)\n",
    "zinc_forecasting = zinc.loc[(len(zinc)-250):len(zinc),:]"
   ]
  },
  {
   "cell_type": "code",
   "execution_count": 95,
   "metadata": {},
   "outputs": [],
   "source": [
    "X_train = zinc_predict.drop(\"Zinc\", axis=1)\n",
    "X_train = X_train.drop(\"Date\", axis=1)\n",
    "y_train = zinc_predict[\"Zinc\"].values\n",
    "X_forecast = zinc_forecasting.drop(\"Zinc\", axis=1)\n",
    "X_forecast = X_forecast.drop(\"Date\", axis=1)\n",
    "y_forecast = zinc_forecasting[\"Zinc\"].values"
   ]
  },
  {
   "cell_type": "markdown",
   "metadata": {},
   "source": [
    "# Data Graph"
   ]
  },
  {
   "cell_type": "code",
   "execution_count": null,
   "metadata": {},
   "outputs": [],
   "source": [
    "plt.figure(figsize=(15, 8))\n",
    "plt.plot(HH[\"HH_daily\"])"
   ]
  },
  {
   "cell_type": "code",
   "execution_count": null,
   "metadata": {},
   "outputs": [],
   "source": [
    "plt.figure(figsize=(15, 8))\n",
    "plt.plot(WTI[\"WTI_daily\"])"
   ]
  },
  {
   "cell_type": "code",
   "execution_count": null,
   "metadata": {},
   "outputs": [],
   "source": [
    "plt.figure(figsize=(15, 8))\n",
    "plt.plot(gold[\"Gold\"])"
   ]
  },
  {
   "cell_type": "code",
   "execution_count": null,
   "metadata": {},
   "outputs": [],
   "source": [
    "plt.figure(figsize=(15, 8))\n",
    "plt.plot(copper[\"Copper\"])"
   ]
  },
  {
   "cell_type": "code",
   "execution_count": null,
   "metadata": {},
   "outputs": [],
   "source": [
    "plt.figure(figsize=(15, 8))\n",
    "plt.plot(nickel[\"Nickel\"])"
   ]
  },
  {
   "cell_type": "code",
   "execution_count": null,
   "metadata": {},
   "outputs": [],
   "source": [
    "plt.figure(figsize=(15, 8))\n",
    "plt.plot(zinc[\"Zinc\"])"
   ]
  },
  {
   "cell_type": "markdown",
   "metadata": {},
   "source": [
    "# RandomForestRegressor"
   ]
  },
  {
   "cell_type": "code",
   "execution_count": 109,
   "metadata": {},
   "outputs": [],
   "source": [
    "from sklearn.model_selection import GridSearchCV\n",
    "\n",
    "#training model with k-fold cross validation\n",
    "def train_model_with_cv(model, params, X_train, y_train):\n",
    "    gs_clf = GridSearchCV(model, params, n_jobs=-2, cv=5)\n",
    "    gs_clf = gs_clf.fit(X_train, y_train)\n",
    "    model = gs_clf.best_estimator_\n",
    "    \n",
    "    return model"
   ]
  },
  {
   "cell_type": "code",
   "execution_count": 110,
   "metadata": {},
   "outputs": [
    {
     "name": "stderr",
     "output_type": "stream",
     "text": [
      "D:\\Anaconda3\\lib\\site-packages\\sklearn\\model_selection\\_search.py:814: DeprecationWarning: The default of the `iid` parameter will change from True to False in version 0.22 and will be removed in 0.24. This will change numeric results when test-set sizes are unequal.\n",
      "  DeprecationWarning)\n"
     ]
    },
    {
     "name": "stdout",
     "output_type": "stream",
     "text": [
      "RandomForestRegressor(bootstrap=True, criterion='mse', max_depth=10,\n",
      "                      max_features='auto', max_leaf_nodes=None,\n",
      "                      min_impurity_decrease=0.0, min_impurity_split=None,\n",
      "                      min_samples_leaf=5, min_samples_split=5,\n",
      "                      min_weight_fraction_leaf=0.0, n_estimators=1000,\n",
      "                      n_jobs=None, oob_score=False, random_state=42, verbose=0,\n",
      "                      warm_start=False)\n"
     ]
    }
   ],
   "source": [
    "from sklearn.ensemble import RandomForestRegressor\n",
    "\n",
    "rfr = RandomForestRegressor(random_state=42)\n",
    "\n",
    "parameters = {'n_estimators': [250,500,750,1000], \n",
    "              'max_depth': [10,20],\n",
    "              'min_samples_split': [5,10],\n",
    "              'min_samples_leaf': [5,10,20]\n",
    "             }\n",
    "\n",
    "rnd_best = train_model_with_cv(rfr, parameters, X_train, y_train)\n",
    "print(rnd_best)\n",
    "forecast_result = rnd_best.predict(X_forecast)"
   ]
  },
  {
   "cell_type": "markdown",
   "metadata": {},
   "source": [
    "# Keras"
   ]
  },
  {
   "cell_type": "code",
   "execution_count": 113,
   "metadata": {},
   "outputs": [],
   "source": [
    "from sklearn.preprocessing import RobustScaler\n",
    "\n",
    "scaler = RobustScaler()\n",
    "X_train_scaled = scaler.fit_transform(X_train)\n",
    "X_forecast_scaled = scaler.transform(X_forecast)\n",
    "\n",
    "X_train_reshape = X_train_scaled.reshape(len(X_train_scaled),5,1)\n",
    "y_train_reshape = y_train.reshape(len(y_train),1)\n",
    "X_forecast_reshape = X_forecast_scaled.reshape(len(X_forecast_scaled),5,1)"
   ]
  },
  {
   "cell_type": "code",
   "execution_count": 114,
   "metadata": {},
   "outputs": [],
   "source": [
    "from tensorflow.keras.models import Sequential\n",
    "from tensorflow.keras.layers import Dense, SimpleRNN, LSTM, BatchNormalization, Dropout\n",
    "from tensorflow.keras.regularizers import l1, l2, l1_l2\n",
    "from tensorflow.keras.callbacks import EarlyStopping\n",
    "from tensorflow.keras.optimizers import SGD, Adam\n",
    "from tensorflow.keras.initializers import RandomNormal\n",
    "from tensorflow.keras.models import model_from_json\n",
    "import optuna\n",
    "from optuna.pruners import SuccessiveHalvingPruner\n",
    "from optuna.samplers import TPESampler\n",
    "from optuna.integration import TFKerasPruningCallback"
   ]
  },
  {
   "cell_type": "markdown",
   "metadata": {},
   "source": [
    "# Keras-ANN"
   ]
  },
  {
   "cell_type": "code",
   "execution_count": 26,
   "metadata": {
    "scrolled": true
   },
   "outputs": [
    {
     "name": "stderr",
     "output_type": "stream",
     "text": [
      "D:\\Anaconda3\\lib\\site-packages\\tensorflow_core\\python\\keras\\callbacks.py:1225: RuntimeWarning: invalid value encountered in less\n",
      "  if self.monitor_op(current - self.min_delta, self.best):\n",
      "[I 2019-11-20 14:27:31,484] Setting status of trial#0 as TrialState.PRUNED. Trial was pruned at epoch 2.\n",
      "D:\\Anaconda3\\lib\\site-packages\\tensorflow_core\\python\\keras\\callbacks.py:1225: RuntimeWarning: invalid value encountered in less\n",
      "  if self.monitor_op(current - self.min_delta, self.best):\n",
      "[I 2019-11-20 14:27:42,086] Setting status of trial#1 as TrialState.PRUNED. Trial was pruned at epoch 2.\n",
      "D:\\Anaconda3\\lib\\site-packages\\tensorflow_core\\python\\keras\\callbacks.py:1225: RuntimeWarning: invalid value encountered in less\n",
      "  if self.monitor_op(current - self.min_delta, self.best):\n",
      "[I 2019-11-20 14:27:46,840] Setting status of trial#2 as TrialState.PRUNED. Trial was pruned at epoch 2.\n",
      "D:\\Anaconda3\\lib\\site-packages\\tensorflow_core\\python\\keras\\callbacks.py:1225: RuntimeWarning: invalid value encountered in less\n",
      "  if self.monitor_op(current - self.min_delta, self.best):\n"
     ]
    },
    {
     "name": "stdout",
     "output_type": "stream",
     "text": [
      "Restoring model weights from the end of the best epoch.\n",
      "Epoch 00086: early stopping\n"
     ]
    },
    {
     "name": "stderr",
     "output_type": "stream",
     "text": [
      "[I 2019-11-20 14:28:07,401] Finished trial#3 resulted in value: 2.506845079075726. Current best value is 2.506845079075726 with parameters: {'units': 113, 'rate': 0.35403628889802274, 'lr': 0.0030378649352844423}.\n",
      "D:\\Anaconda3\\lib\\site-packages\\tensorflow_core\\python\\keras\\callbacks.py:1225: RuntimeWarning: invalid value encountered in less\n",
      "  if self.monitor_op(current - self.min_delta, self.best):\n",
      "[I 2019-11-20 14:28:09,080] Setting status of trial#4 as TrialState.PRUNED. Trial was pruned at epoch 2.\n",
      "D:\\Anaconda3\\lib\\site-packages\\tensorflow_core\\python\\keras\\callbacks.py:1225: RuntimeWarning: invalid value encountered in less\n",
      "  if self.monitor_op(current - self.min_delta, self.best):\n",
      "[I 2019-11-20 14:28:13,976] Setting status of trial#5 as TrialState.PRUNED. Trial was pruned at epoch 2.\n",
      "D:\\Anaconda3\\lib\\site-packages\\tensorflow_core\\python\\keras\\callbacks.py:1225: RuntimeWarning: invalid value encountered in less\n",
      "  if self.monitor_op(current - self.min_delta, self.best):\n",
      "[I 2019-11-20 14:28:19,120] Setting status of trial#6 as TrialState.PRUNED. Trial was pruned at epoch 2.\n",
      "D:\\Anaconda3\\lib\\site-packages\\tensorflow_core\\python\\keras\\callbacks.py:1225: RuntimeWarning: invalid value encountered in less\n",
      "  if self.monitor_op(current - self.min_delta, self.best):\n",
      "[I 2019-11-20 14:28:24,233] Setting status of trial#7 as TrialState.PRUNED. Trial was pruned at epoch 2.\n",
      "D:\\Anaconda3\\lib\\site-packages\\tensorflow_core\\python\\keras\\callbacks.py:1225: RuntimeWarning: invalid value encountered in less\n",
      "  if self.monitor_op(current - self.min_delta, self.best):\n",
      "[I 2019-11-20 14:28:29,389] Setting status of trial#8 as TrialState.PRUNED. Trial was pruned at epoch 2.\n",
      "D:\\Anaconda3\\lib\\site-packages\\tensorflow_core\\python\\keras\\callbacks.py:1225: RuntimeWarning: invalid value encountered in less\n",
      "  if self.monitor_op(current - self.min_delta, self.best):\n",
      "[I 2019-11-20 14:28:34,382] Setting status of trial#9 as TrialState.PRUNED. Trial was pruned at epoch 2.\n"
     ]
    },
    {
     "name": "stdout",
     "output_type": "stream",
     "text": [
      "{'units': 113, 'rate': 0.35403628889802274, 'lr': 0.0030378649352844423}\n"
     ]
    }
   ],
   "source": [
    "folder = './saved_model/ANN'\n",
    "for the_file in os.listdir(folder):\n",
    "    file_path = os.path.join(folder, the_file)\n",
    "    try:\n",
    "        if os.path.isfile(file_path):\n",
    "            os.unlink(file_path)\n",
    "    except Exception as e:\n",
    "        print(e)\n",
    "\n",
    "def objective(trial):\n",
    "    \n",
    "    reset_graph()\n",
    "    model = Sequential()\n",
    "    model.add(Dense(units=trial.suggest_int('units',10,200), input_dim=5, kernel_initializer='he_normal', \n",
    "                    bias_initializer='he_normal', activation='elu', \n",
    "                    kernel_regularizer=l1_l2(l1=0.01,l2=0.01), bias_regularizer=l1_l2(l1=0.01,l2=0.01)))\n",
    "    model.add(BatchNormalization(beta_initializer='he_normal',gamma_initializer='he_normal',moving_mean_initializer='he_normal', \n",
    "                                 moving_variance_initializer='he_normal',beta_regularizer=l1_l2(l1=0.01,l2=0.01),\n",
    "                                 gamma_regularizer=l1_l2(l1=0.01,l2=0.01)))\n",
    "    model.add(Dropout(rate=trial.suggest_uniform('rate',0,0.5)))\n",
    "    model.add(Dense(units=1, kernel_initializer='he_normal', bias_initializer='he_normal', activation='linear', \n",
    "                    kernel_regularizer=l1_l2(l1=0.01,l2=0.01), bias_regularizer=l1_l2(l1=0.01,l2=0.01)))\n",
    "    \n",
    "    optimizer = Adam(lr=trial.suggest_loguniform('lr',0.001,0.1), beta_1=0.9, beta_2=0.999, epsilon=None, decay=0.0, amsgrad=False)\n",
    "    model.compile(loss='mean_absolute_percentage_error', optimizer=optimizer)\n",
    "    \n",
    "    early_stop = EarlyStopping(monitor='val_loss',patience=30,verbose=1,restore_best_weights=True)\n",
    "    pruning_callback = TFKerasPruningCallback(trial, 'val_loss')\n",
    "\n",
    "    model.fit(X_train_scaled,y_train,epochs=1000,batch_size=50,verbose=0,validation_split=0.3,callbacks=[early_stop,pruning_callback])\n",
    "    \n",
    "    model_json = model.to_json()\n",
    "    with open(\"./saved_model/ANN/model_{}.json\".format(trial.number),\"w\") as json_file:\n",
    "        json_file.write(model_json)\n",
    "    model.save_weights(\"./saved_model/ANN/model_{}.h5\".format(trial.number))\n",
    "    \n",
    "    forecast_result=model.predict(X_forecast_scaled)\n",
    "    \n",
    "    y_predict = np.zeros(250)\n",
    "    \n",
    "    for i in range(len(forecast_result)):\n",
    "        y_predict[i] = forecast_result[i]\n",
    "        \n",
    "    mape1 = np.abs((y_forecast - y_predict)/(y_forecast+0.00000001))\n",
    "    mape2 = 0\n",
    "    \n",
    "    for i in range(len(mape1)):\n",
    "        mape2 += mape1[i]\n",
    "        \n",
    "    mape3 = 100 * (mape2 / len(mape1))\n",
    "    \n",
    "    return mape3\n",
    "\n",
    "sampler = TPESampler(**TPESampler.hyperopt_parameters(), seed=42)\n",
    "pruner = SuccessiveHalvingPruner(min_resource=1, reduction_factor=2, min_early_stopping_rate=1)\n",
    "study = optuna.create_study(pruner=pruner, sampler=sampler)\n",
    "study.optimize(objective, n_trials=10, n_jobs=1)\n",
    "\n",
    "print(study.best_params)"
   ]
  },
  {
   "cell_type": "code",
   "execution_count": 30,
   "metadata": {},
   "outputs": [],
   "source": [
    "json_file = open(\"./saved_model/ANN/model_{}.json\".format(study.best_trial.number),\"r\")\n",
    "loaded_model_json = json_file.read()\n",
    "json_file.close()\n",
    "best_model = model_from_json(loaded_model_json)\n",
    "best_model.load_weights(\"./saved_model/ANN/model_{}.h5\".format(study.best_trial.number))\n",
    "forecast_result=best_model.predict(X_forecast_scaled)"
   ]
  },
  {
   "cell_type": "markdown",
   "metadata": {},
   "source": [
    "# Keras-RNN"
   ]
  },
  {
   "cell_type": "code",
   "execution_count": 115,
   "metadata": {
    "scrolled": true
   },
   "outputs": [
    {
     "name": "stdout",
     "output_type": "stream",
     "text": [
      "Restoring model weights from the end of the best epoch.\n",
      "Epoch 00053: early stopping\n"
     ]
    },
    {
     "name": "stderr",
     "output_type": "stream",
     "text": [
      "[I 2019-11-25 10:56:58,338] Finished trial#0 resulted in value: 11.018316699013528. Current best value is 11.018316699013528 with parameters: {'units': 112, 'rate': 0.3982714934301164, 'rc_rate': 0.0917173949330819, 'lr': 0.07818940902700416}.\n"
     ]
    },
    {
     "name": "stdout",
     "output_type": "stream",
     "text": [
      "Restoring model weights from the end of the best epoch.\n",
      "Epoch 00280: early stopping\n"
     ]
    },
    {
     "name": "stderr",
     "output_type": "stream",
     "text": [
      "[I 2019-11-25 10:57:18,785] Finished trial#1 resulted in value: 3.1058364844986213. Current best value is 3.1058364844986213 with parameters: {'units': 30, 'rate': 0.07800932022121826, 'rc_rate': 0.07799726016810132, 'lr': 0.006750277604651747}.\n",
      "[I 2019-11-25 10:57:20,681] Setting status of trial#2 as TrialState.PRUNED. Trial was pruned at epoch 2.\n",
      "[I 2019-11-25 10:57:24,381] Setting status of trial#3 as TrialState.PRUNED. Trial was pruned at epoch 4.\n",
      "[I 2019-11-25 10:57:28,116] Setting status of trial#4 as TrialState.PRUNED. Trial was pruned at epoch 2.\n",
      "[I 2019-11-25 10:57:31,791] Setting status of trial#5 as TrialState.PRUNED. Trial was pruned at epoch 4.\n",
      "[I 2019-11-25 10:57:35,452] Setting status of trial#6 as TrialState.PRUNED. Trial was pruned at epoch 2.\n",
      "[I 2019-11-25 10:57:39,208] Setting status of trial#7 as TrialState.PRUNED. Trial was pruned at epoch 4.\n",
      "[I 2019-11-25 10:57:43,116] Setting status of trial#8 as TrialState.PRUNED. Trial was pruned at epoch 8.\n",
      "[I 2019-11-25 10:57:46,913] Setting status of trial#9 as TrialState.PRUNED. Trial was pruned at epoch 4.\n",
      "[I 2019-11-25 10:57:50,618] Setting status of trial#10 as TrialState.PRUNED. Trial was pruned at epoch 4.\n",
      "[I 2019-11-25 10:57:54,313] Setting status of trial#11 as TrialState.PRUNED. Trial was pruned at epoch 2.\n",
      "[I 2019-11-25 10:57:57,953] Setting status of trial#12 as TrialState.PRUNED. Trial was pruned at epoch 2.\n",
      "[I 2019-11-25 10:58:01,626] Setting status of trial#13 as TrialState.PRUNED. Trial was pruned at epoch 4.\n",
      "[I 2019-11-25 10:58:05,315] Setting status of trial#14 as TrialState.PRUNED. Trial was pruned at epoch 4.\n",
      "[I 2019-11-25 10:58:09,232] Setting status of trial#15 as TrialState.PRUNED. Trial was pruned at epoch 8.\n",
      "[I 2019-11-25 10:58:12,947] Setting status of trial#16 as TrialState.PRUNED. Trial was pruned at epoch 2.\n",
      "[I 2019-11-25 10:58:16,661] Setting status of trial#17 as TrialState.PRUNED. Trial was pruned at epoch 4.\n",
      "[I 2019-11-25 10:58:21,106] Setting status of trial#18 as TrialState.PRUNED. Trial was pruned at epoch 16.\n",
      "[I 2019-11-25 10:58:26,430] Setting status of trial#19 as TrialState.PRUNED. Trial was pruned at epoch 32.\n",
      "[I 2019-11-25 10:58:30,120] Setting status of trial#20 as TrialState.PRUNED. Trial was pruned at epoch 2.\n",
      "[I 2019-11-25 10:58:33,699] Setting status of trial#21 as TrialState.PRUNED. Trial was pruned at epoch 2.\n"
     ]
    },
    {
     "name": "stdout",
     "output_type": "stream",
     "text": [
      "Restoring model weights from the end of the best epoch.\n",
      "Epoch 00047: early stopping\n"
     ]
    },
    {
     "name": "stderr",
     "output_type": "stream",
     "text": [
      "[I 2019-11-25 10:58:41,765] Finished trial#22 resulted in value: 5.8193372015329565. Current best value is 3.1058364844986213 with parameters: {'units': 30, 'rate': 0.07800932022121826, 'rc_rate': 0.07799726016810132, 'lr': 0.006750277604651747}.\n"
     ]
    },
    {
     "name": "stdout",
     "output_type": "stream",
     "text": [
      "Restoring model weights from the end of the best epoch.\n",
      "Epoch 00060: early stopping\n"
     ]
    },
    {
     "name": "stderr",
     "output_type": "stream",
     "text": [
      "[I 2019-11-25 10:58:48,924] Finished trial#23 resulted in value: 6.0298634335377645. Current best value is 3.1058364844986213 with parameters: {'units': 30, 'rate': 0.07800932022121826, 'rc_rate': 0.07799726016810132, 'lr': 0.006750277604651747}.\n",
      "[I 2019-11-25 10:58:54,607] Setting status of trial#24 as TrialState.PRUNED. Trial was pruned at epoch 64.\n",
      "[I 2019-11-25 10:58:59,019] Setting status of trial#25 as TrialState.PRUNED. Trial was pruned at epoch 16.\n",
      "[I 2019-11-25 10:59:02,664] Setting status of trial#26 as TrialState.PRUNED. Trial was pruned at epoch 2.\n",
      "[I 2019-11-25 10:59:09,730] Setting status of trial#27 as TrialState.PRUNED. Trial was pruned at epoch 64.\n"
     ]
    },
    {
     "name": "stdout",
     "output_type": "stream",
     "text": [
      "Restoring model weights from the end of the best epoch.\n",
      "Epoch 00112: early stopping\n"
     ]
    },
    {
     "name": "stderr",
     "output_type": "stream",
     "text": [
      "[I 2019-11-25 10:59:21,530] Finished trial#28 resulted in value: 6.215196812167229. Current best value is 3.1058364844986213 with parameters: {'units': 30, 'rate': 0.07800932022121826, 'rc_rate': 0.07799726016810132, 'lr': 0.006750277604651747}.\n",
      "[I 2019-11-25 10:59:23,551] Setting status of trial#29 as TrialState.PRUNED. Trial was pruned at epoch 4.\n",
      "[I 2019-11-25 10:59:27,128] Setting status of trial#30 as TrialState.PRUNED. Trial was pruned at epoch 2.\n",
      "[I 2019-11-25 10:59:30,871] Setting status of trial#31 as TrialState.PRUNED. Trial was pruned at epoch 4.\n",
      "[I 2019-11-25 10:59:34,475] Setting status of trial#32 as TrialState.PRUNED. Trial was pruned at epoch 2.\n",
      "[I 2019-11-25 10:59:38,920] Setting status of trial#33 as TrialState.PRUNED. Trial was pruned at epoch 16.\n",
      "[I 2019-11-25 10:59:42,909] Setting status of trial#34 as TrialState.PRUNED. Trial was pruned at epoch 8.\n",
      "[I 2019-11-25 10:59:46,640] Setting status of trial#35 as TrialState.PRUNED. Trial was pruned at epoch 2.\n",
      "[I 2019-11-25 10:59:51,999] Setting status of trial#36 as TrialState.PRUNED. Trial was pruned at epoch 32.\n",
      "[I 2019-11-25 10:59:55,621] Setting status of trial#37 as TrialState.PRUNED. Trial was pruned at epoch 2.\n",
      "[I 2019-11-25 10:59:59,237] Setting status of trial#38 as TrialState.PRUNED. Trial was pruned at epoch 2.\n",
      "[I 2019-11-25 11:00:02,850] Setting status of trial#39 as TrialState.PRUNED. Trial was pruned at epoch 2.\n",
      "[I 2019-11-25 11:00:06,755] Setting status of trial#40 as TrialState.PRUNED. Trial was pruned at epoch 8.\n",
      "[I 2019-11-25 11:00:10,337] Setting status of trial#41 as TrialState.PRUNED. Trial was pruned at epoch 2.\n",
      "[I 2019-11-25 11:00:17,553] Setting status of trial#42 as TrialState.PRUNED. Trial was pruned at epoch 64.\n",
      "[I 2019-11-25 11:00:21,548] Setting status of trial#43 as TrialState.PRUNED. Trial was pruned at epoch 8.\n",
      "[I 2019-11-25 11:00:25,115] Setting status of trial#44 as TrialState.PRUNED. Trial was pruned at epoch 2.\n",
      "[I 2019-11-25 11:00:28,685] Setting status of trial#45 as TrialState.PRUNED. Trial was pruned at epoch 2.\n",
      "[I 2019-11-25 11:00:32,378] Setting status of trial#46 as TrialState.PRUNED. Trial was pruned at epoch 2.\n",
      "[I 2019-11-25 11:00:36,001] Setting status of trial#47 as TrialState.PRUNED. Trial was pruned at epoch 2.\n",
      "[I 2019-11-25 11:00:39,947] Setting status of trial#48 as TrialState.PRUNED. Trial was pruned at epoch 8.\n",
      "[I 2019-11-25 11:00:43,692] Setting status of trial#49 as TrialState.PRUNED. Trial was pruned at epoch 2.\n",
      "[I 2019-11-25 11:00:47,412] Setting status of trial#50 as TrialState.PRUNED. Trial was pruned at epoch 4.\n",
      "[I 2019-11-25 11:00:54,755] Setting status of trial#51 as TrialState.PRUNED. Trial was pruned at epoch 64.\n",
      "[I 2019-11-25 11:00:58,511] Setting status of trial#52 as TrialState.PRUNED. Trial was pruned at epoch 2.\n",
      "[I 2019-11-25 11:01:02,248] Setting status of trial#53 as TrialState.PRUNED. Trial was pruned at epoch 4.\n",
      "[I 2019-11-25 11:01:09,524] Setting status of trial#54 as TrialState.PRUNED. Trial was pruned at epoch 64.\n",
      "[I 2019-11-25 11:01:13,272] Setting status of trial#55 as TrialState.PRUNED. Trial was pruned at epoch 4.\n",
      "[I 2019-11-25 11:01:16,943] Setting status of trial#56 as TrialState.PRUNED. Trial was pruned at epoch 2.\n",
      "[I 2019-11-25 11:01:20,574] Setting status of trial#57 as TrialState.PRUNED. Trial was pruned at epoch 2.\n",
      "[I 2019-11-25 11:01:24,279] Setting status of trial#58 as TrialState.PRUNED. Trial was pruned at epoch 4.\n",
      "[I 2019-11-25 11:01:27,851] Setting status of trial#59 as TrialState.PRUNED. Trial was pruned at epoch 2.\n",
      "[I 2019-11-25 11:01:31,397] Setting status of trial#60 as TrialState.PRUNED. Trial was pruned at epoch 2.\n",
      "[I 2019-11-25 11:01:35,070] Setting status of trial#61 as TrialState.PRUNED. Trial was pruned at epoch 2.\n"
     ]
    },
    {
     "name": "stdout",
     "output_type": "stream",
     "text": [
      "Restoring model weights from the end of the best epoch.\n",
      "Epoch 00138: early stopping\n"
     ]
    },
    {
     "name": "stderr",
     "output_type": "stream",
     "text": [
      "[I 2019-11-25 11:01:48,174] Finished trial#62 resulted in value: 3.646450328667338. Current best value is 3.1058364844986213 with parameters: {'units': 30, 'rate': 0.07800932022121826, 'rc_rate': 0.07799726016810132, 'lr': 0.006750277604651747}.\n",
      "[I 2019-11-25 11:01:50,101] Setting status of trial#63 as TrialState.PRUNED. Trial was pruned at epoch 2.\n",
      "[I 2019-11-25 11:02:01,419] Setting status of trial#64 as TrialState.PRUNED. Trial was pruned at epoch 128.\n"
     ]
    },
    {
     "name": "stdout",
     "output_type": "stream",
     "text": [
      "Restoring model weights from the end of the best epoch.\n",
      "Epoch 00104: early stopping\n"
     ]
    },
    {
     "name": "stderr",
     "output_type": "stream",
     "text": [
      "[I 2019-11-25 11:02:12,764] Finished trial#65 resulted in value: 4.192770029399555. Current best value is 3.1058364844986213 with parameters: {'units': 30, 'rate': 0.07800932022121826, 'rc_rate': 0.07799726016810132, 'lr': 0.006750277604651747}.\n"
     ]
    },
    {
     "name": "stdout",
     "output_type": "stream",
     "text": [
      "Restoring model weights from the end of the best epoch.\n",
      "Epoch 00063: early stopping\n"
     ]
    },
    {
     "name": "stderr",
     "output_type": "stream",
     "text": [
      "[I 2019-11-25 11:02:20,037] Finished trial#66 resulted in value: 4.259800498610882. Current best value is 3.1058364844986213 with parameters: {'units': 30, 'rate': 0.07800932022121826, 'rc_rate': 0.07799726016810132, 'lr': 0.006750277604651747}.\n",
      "[I 2019-11-25 11:02:22,429] Setting status of trial#67 as TrialState.PRUNED. Trial was pruned at epoch 8.\n",
      "[I 2019-11-25 11:02:26,545] Setting status of trial#68 as TrialState.PRUNED. Trial was pruned at epoch 8.\n"
     ]
    },
    {
     "name": "stdout",
     "output_type": "stream",
     "text": [
      "Restoring model weights from the end of the best epoch.\n",
      "Epoch 00103: early stopping\n"
     ]
    },
    {
     "name": "stderr",
     "output_type": "stream",
     "text": [
      "[I 2019-11-25 11:02:37,847] Finished trial#69 resulted in value: 3.3216067581823854. Current best value is 3.1058364844986213 with parameters: {'units': 30, 'rate': 0.07800932022121826, 'rc_rate': 0.07799726016810132, 'lr': 0.006750277604651747}.\n",
      "[I 2019-11-25 11:02:40,073] Setting status of trial#70 as TrialState.PRUNED. Trial was pruned at epoch 4.\n",
      "[I 2019-11-25 11:02:44,110] Setting status of trial#71 as TrialState.PRUNED. Trial was pruned at epoch 4.\n",
      "[I 2019-11-25 11:02:51,375] Setting status of trial#72 as TrialState.PRUNED. Trial was pruned at epoch 64.\n",
      "[I 2019-11-25 11:02:55,568] Setting status of trial#73 as TrialState.PRUNED. Trial was pruned at epoch 8.\n",
      "[I 2019-11-25 11:02:59,637] Setting status of trial#74 as TrialState.PRUNED. Trial was pruned at epoch 2.\n",
      "[I 2019-11-25 11:03:04,218] Setting status of trial#75 as TrialState.PRUNED. Trial was pruned at epoch 2.\n",
      "[I 2019-11-25 11:03:10,097] Setting status of trial#76 as TrialState.PRUNED. Trial was pruned at epoch 32.\n"
     ]
    },
    {
     "name": "stdout",
     "output_type": "stream",
     "text": [
      "Restoring model weights from the end of the best epoch.\n",
      "Epoch 00125: early stopping\n"
     ]
    },
    {
     "name": "stderr",
     "output_type": "stream",
     "text": [
      "[I 2019-11-25 11:03:23,353] Finished trial#77 resulted in value: 3.9118780054685636. Current best value is 3.1058364844986213 with parameters: {'units': 30, 'rate': 0.07800932022121826, 'rc_rate': 0.07799726016810132, 'lr': 0.006750277604651747}.\n",
      "[I 2019-11-25 11:03:25,935] Setting status of trial#78 as TrialState.PRUNED. Trial was pruned at epoch 2.\n",
      "[I 2019-11-25 11:03:30,162] Setting status of trial#79 as TrialState.PRUNED. Trial was pruned at epoch 8.\n",
      "[I 2019-11-25 11:03:34,199] Setting status of trial#80 as TrialState.PRUNED. Trial was pruned at epoch 4.\n",
      "[I 2019-11-25 11:03:38,032] Setting status of trial#81 as TrialState.PRUNED. Trial was pruned at epoch 4.\n",
      "[I 2019-11-25 11:03:42,062] Setting status of trial#82 as TrialState.PRUNED. Trial was pruned at epoch 8.\n",
      "[I 2019-11-25 11:03:45,698] Setting status of trial#83 as TrialState.PRUNED. Trial was pruned at epoch 2.\n",
      "[I 2019-11-25 11:03:49,447] Setting status of trial#84 as TrialState.PRUNED. Trial was pruned at epoch 2.\n",
      "[I 2019-11-25 11:03:53,293] Setting status of trial#85 as TrialState.PRUNED. Trial was pruned at epoch 4.\n",
      "[I 2019-11-25 11:03:57,514] Setting status of trial#86 as TrialState.PRUNED. Trial was pruned at epoch 8.\n",
      "[I 2019-11-25 11:04:01,447] Setting status of trial#87 as TrialState.PRUNED. Trial was pruned at epoch 4.\n",
      "[I 2019-11-25 11:04:05,292] Setting status of trial#88 as TrialState.PRUNED. Trial was pruned at epoch 2.\n",
      "[I 2019-11-25 11:04:08,966] Setting status of trial#89 as TrialState.PRUNED. Trial was pruned at epoch 2.\n",
      "[I 2019-11-25 11:04:12,703] Setting status of trial#90 as TrialState.PRUNED. Trial was pruned at epoch 2.\n",
      "[I 2019-11-25 11:04:16,514] Setting status of trial#91 as TrialState.PRUNED. Trial was pruned at epoch 4.\n",
      "[I 2019-11-25 11:04:20,500] Setting status of trial#92 as TrialState.PRUNED. Trial was pruned at epoch 2.\n",
      "[I 2019-11-25 11:04:24,811] Setting status of trial#93 as TrialState.PRUNED. Trial was pruned at epoch 8.\n",
      "[I 2019-11-25 11:04:28,669] Setting status of trial#94 as TrialState.PRUNED. Trial was pruned at epoch 2.\n",
      "[I 2019-11-25 11:04:33,220] Setting status of trial#95 as TrialState.PRUNED. Trial was pruned at epoch 16.\n",
      "[I 2019-11-25 11:04:36,929] Setting status of trial#96 as TrialState.PRUNED. Trial was pruned at epoch 2.\n",
      "[I 2019-11-25 11:04:41,298] Setting status of trial#97 as TrialState.PRUNED. Trial was pruned at epoch 8.\n",
      "[I 2019-11-25 11:04:45,098] Setting status of trial#98 as TrialState.PRUNED. Trial was pruned at epoch 2.\n",
      "[I 2019-11-25 11:04:49,549] Setting status of trial#99 as TrialState.PRUNED. Trial was pruned at epoch 2.\n"
     ]
    },
    {
     "name": "stdout",
     "output_type": "stream",
     "text": [
      "{'units': 30, 'rate': 0.07800932022121826, 'rc_rate': 0.07799726016810132, 'lr': 0.006750277604651747}\n"
     ]
    }
   ],
   "source": [
    "folder = './saved_model/RNN'\n",
    "for the_file in os.listdir(folder):\n",
    "    file_path = os.path.join(folder, the_file)\n",
    "    try:\n",
    "        if os.path.isfile(file_path):\n",
    "            os.unlink(file_path)\n",
    "    except Exception as e:\n",
    "        print(e)\n",
    "\n",
    "def objective(trial):\n",
    "    \n",
    "    reset_graph()\n",
    "    model = Sequential()\n",
    "    model.add(SimpleRNN(units=trial.suggest_int('units',10,200), input_shape=(5,1), kernel_initializer='he_normal',\n",
    "                        recurrent_initializer='he_normal', bias_initializer='he_normal', activation='elu', \n",
    "                        kernel_regularizer=l1_l2(l1=0.01,l2=0.01), recurrent_regularizer=l1_l2(l1=0.01,l2=0.01), \n",
    "                        bias_regularizer=l1_l2(l1=0.01,l2=0.01), activity_regularizer=l1_l2(l1=0.01,l2=0.01), \n",
    "                        dropout=trial.suggest_uniform('rate',0,0.5), recurrent_dropout=trial.suggest_uniform('rc_rate',0,0.5)))\n",
    "    model.add(Dense(units=1, kernel_initializer='he_normal', bias_initializer='he_normal', activation='linear', \n",
    "                    kernel_regularizer=l1_l2(l1=0.01,l2=0.01), bias_regularizer=l1_l2(l1=0.01,l2=0.01)))\n",
    "    \n",
    "    adam=Adam(lr=trial.suggest_loguniform('lr',0.001,0.1), beta_1=0.9, beta_2=0.999, epsilon=None, decay=0.0, amsgrad=False)\n",
    "    model.compile(loss='mean_absolute_percentage_error', optimizer=adam)\n",
    "    \n",
    "    early_stop = EarlyStopping(monitor='val_loss', patience=30, verbose=1, restore_best_weights=True)\n",
    "    pruning_callback = TFKerasPruningCallback(trial, 'val_loss')\n",
    "    \n",
    "    model.fit(X_train_reshape,y_train_reshape,epochs=1000,batch_size=50,verbose=0,validation_split=0.3,\n",
    "              callbacks=[early_stop,pruning_callback])\n",
    "    \n",
    "    model_json = model.to_json()\n",
    "    with open(\"./saved_model/RNN/model_{}.json\".format(trial.number),\"w\") as json_file:\n",
    "        json_file.write(model_json)\n",
    "    model.save_weights(\"./saved_model/RNN/model_{}.h5\".format(trial.number))\n",
    "    \n",
    "    forecast_result=model.predict(X_forecast_reshape)\n",
    "    \n",
    "    y_predict = np.zeros(250)\n",
    "    \n",
    "    for i in range(len(forecast_result)):\n",
    "        y_predict[i] = forecast_result[i]\n",
    "        \n",
    "    mape1 = np.abs((y_forecast - y_predict)/(y_forecast+0.00000001))\n",
    "    mape2 = 0\n",
    "    \n",
    "    for i in range(len(mape1)):\n",
    "        mape2 += mape1[i]\n",
    "        \n",
    "    mape3 = 100 * (mape2 / len(mape1))\n",
    "    \n",
    "    return mape3\n",
    "\n",
    "sampler = TPESampler(**TPESampler.hyperopt_parameters(), seed=42)\n",
    "pruner = SuccessiveHalvingPruner(min_resource=1, reduction_factor=2, min_early_stopping_rate=1)\n",
    "study = optuna.create_study(pruner=pruner, sampler=sampler)\n",
    "study.optimize(objective, n_trials=100, n_jobs=1)\n",
    "\n",
    "print(study.best_params)"
   ]
  },
  {
   "cell_type": "code",
   "execution_count": 116,
   "metadata": {},
   "outputs": [],
   "source": [
    "json_file = open(\"./saved_model/RNN/model_{}.json\".format(study.best_trial.number),\"r\")\n",
    "loaded_model_json = json_file.read()\n",
    "json_file.close()\n",
    "best_model = model_from_json(loaded_model_json)\n",
    "best_model.load_weights(\"./saved_model/RNN/model_{}.h5\".format(study.best_trial.number))\n",
    "forecast_result=best_model.predict(X_forecast_reshape)"
   ]
  },
  {
   "cell_type": "markdown",
   "metadata": {},
   "source": [
    "# Keras-LSTM"
   ]
  },
  {
   "cell_type": "code",
   "execution_count": 123,
   "metadata": {
    "scrolled": true
   },
   "outputs": [
    {
     "name": "stdout",
     "output_type": "stream",
     "text": [
      "Restoring model weights from the end of the best epoch.\n",
      "Epoch 00086: early stopping\n"
     ]
    },
    {
     "name": "stderr",
     "output_type": "stream",
     "text": [
      "[I 2019-11-25 11:33:06,472] Finished trial#0 resulted in value: 4.814880648133893. Current best value is 4.814880648133893 with parameters: {'units': 112, 'rate': 0.3982714934301164, 'rc_rate': 0.0917173949330819, 'lr': 0.07818940902700416}.\n"
     ]
    },
    {
     "name": "stdout",
     "output_type": "stream",
     "text": [
      "Restoring model weights from the end of the best epoch.\n",
      "Epoch 00160: early stopping\n"
     ]
    },
    {
     "name": "stderr",
     "output_type": "stream",
     "text": [
      "[I 2019-11-25 11:33:21,321] Finished trial#1 resulted in value: 2.48448544106336. Current best value is 2.48448544106336 with parameters: {'units': 30, 'rate': 0.07800932022121826, 'rc_rate': 0.07799726016810132, 'lr': 0.006750277604651747}.\n",
      "[I 2019-11-25 11:33:23,996] Setting status of trial#2 as TrialState.PRUNED. Trial was pruned at epoch 6.\n",
      "[I 2019-11-25 11:33:28,243] Setting status of trial#3 as TrialState.PRUNED. Trial was pruned at epoch 6.\n",
      "[I 2019-11-25 11:33:32,981] Setting status of trial#4 as TrialState.PRUNED. Trial was pruned at epoch 6.\n",
      "[I 2019-11-25 11:33:39,046] Setting status of trial#5 as TrialState.PRUNED. Trial was pruned at epoch 24.\n",
      "[I 2019-11-25 11:33:43,770] Setting status of trial#6 as TrialState.PRUNED. Trial was pruned at epoch 6.\n",
      "[I 2019-11-25 11:33:51,436] Setting status of trial#7 as TrialState.PRUNED. Trial was pruned at epoch 48.\n",
      "[I 2019-11-25 11:33:55,700] Setting status of trial#8 as TrialState.PRUNED. Trial was pruned at epoch 6.\n",
      "[I 2019-11-25 11:34:00,018] Setting status of trial#9 as TrialState.PRUNED. Trial was pruned at epoch 6.\n",
      "[I 2019-11-25 11:34:04,264] Setting status of trial#10 as TrialState.PRUNED. Trial was pruned at epoch 6.\n",
      "[I 2019-11-25 11:34:09,014] Setting status of trial#11 as TrialState.PRUNED. Trial was pruned at epoch 6.\n",
      "[I 2019-11-25 11:34:13,662] Setting status of trial#12 as TrialState.PRUNED. Trial was pruned at epoch 6.\n"
     ]
    },
    {
     "name": "stdout",
     "output_type": "stream",
     "text": [
      "Restoring model weights from the end of the best epoch.\n",
      "Epoch 00065: early stopping\n"
     ]
    },
    {
     "name": "stderr",
     "output_type": "stream",
     "text": [
      "[I 2019-11-25 11:34:25,525] Finished trial#13 resulted in value: 3.218084545320083. Current best value is 2.48448544106336 with parameters: {'units': 30, 'rate': 0.07800932022121826, 'rc_rate': 0.07799726016810132, 'lr': 0.006750277604651747}.\n",
      "[I 2019-11-25 11:34:28,276] Setting status of trial#14 as TrialState.PRUNED. Trial was pruned at epoch 6.\n",
      "[I 2019-11-25 11:34:36,038] Setting status of trial#15 as TrialState.PRUNED. Trial was pruned at epoch 48.\n",
      "[I 2019-11-25 11:34:41,748] Setting status of trial#16 as TrialState.PRUNED. Trial was pruned at epoch 12.\n",
      "[I 2019-11-25 11:34:49,663] Setting status of trial#17 as TrialState.PRUNED. Trial was pruned at epoch 48.\n",
      "[I 2019-11-25 11:34:54,502] Setting status of trial#18 as TrialState.PRUNED. Trial was pruned at epoch 12.\n",
      "[I 2019-11-25 11:34:59,230] Setting status of trial#19 as TrialState.PRUNED. Trial was pruned at epoch 12.\n",
      "[I 2019-11-25 11:35:04,260] Setting status of trial#20 as TrialState.PRUNED. Trial was pruned at epoch 6.\n",
      "[I 2019-11-25 11:35:10,150] Setting status of trial#21 as TrialState.PRUNED. Trial was pruned at epoch 12.\n",
      "[I 2019-11-25 11:35:15,157] Setting status of trial#22 as TrialState.PRUNED. Trial was pruned at epoch 12.\n",
      "[I 2019-11-25 11:35:21,074] Setting status of trial#23 as TrialState.PRUNED. Trial was pruned at epoch 24.\n",
      "[I 2019-11-25 11:35:26,051] Setting status of trial#24 as TrialState.PRUNED. Trial was pruned at epoch 12.\n",
      "[I 2019-11-25 11:35:31,291] Setting status of trial#25 as TrialState.PRUNED. Trial was pruned at epoch 12.\n",
      "[I 2019-11-25 11:35:35,974] Setting status of trial#26 as TrialState.PRUNED. Trial was pruned at epoch 6.\n"
     ]
    },
    {
     "name": "stdout",
     "output_type": "stream",
     "text": [
      "Restoring model weights from the end of the best epoch.\n",
      "Epoch 00189: early stopping\n"
     ]
    },
    {
     "name": "stderr",
     "output_type": "stream",
     "text": [
      "[I 2019-11-25 11:36:04,965] Finished trial#27 resulted in value: 2.6209951706179924. Current best value is 2.48448544106336 with parameters: {'units': 30, 'rate': 0.07800932022121826, 'rc_rate': 0.07799726016810132, 'lr': 0.006750277604651747}.\n"
     ]
    },
    {
     "name": "stdout",
     "output_type": "stream",
     "text": [
      "Restoring model weights from the end of the best epoch.\n",
      "Epoch 00174: early stopping\n"
     ]
    },
    {
     "name": "stderr",
     "output_type": "stream",
     "text": [
      "[I 2019-11-25 11:36:29,954] Finished trial#28 resulted in value: 2.5111733080827903. Current best value is 2.48448544106336 with parameters: {'units': 30, 'rate': 0.07800932022121826, 'rc_rate': 0.07799726016810132, 'lr': 0.006750277604651747}.\n",
      "[I 2019-11-25 11:36:33,052] Setting status of trial#29 as TrialState.PRUNED. Trial was pruned at epoch 6.\n",
      "[I 2019-11-25 11:36:50,366] Setting status of trial#30 as TrialState.PRUNED. Trial was pruned at epoch 96.\n",
      "[I 2019-11-25 11:36:55,781] Setting status of trial#31 as TrialState.PRUNED. Trial was pruned at epoch 12.\n",
      "[I 2019-11-25 11:37:01,333] Setting status of trial#32 as TrialState.PRUNED. Trial was pruned at epoch 12.\n",
      "[I 2019-11-25 11:37:06,138] Setting status of trial#33 as TrialState.PRUNED. Trial was pruned at epoch 6.\n",
      "[I 2019-11-25 11:37:12,147] Setting status of trial#34 as TrialState.PRUNED. Trial was pruned at epoch 12.\n",
      "[I 2019-11-25 11:37:23,802] Setting status of trial#35 as TrialState.PRUNED. Trial was pruned at epoch 48.\n",
      "[I 2019-11-25 11:37:28,460] Setting status of trial#36 as TrialState.PRUNED. Trial was pruned at epoch 6.\n",
      "[I 2019-11-25 11:37:33,621] Setting status of trial#37 as TrialState.PRUNED. Trial was pruned at epoch 12.\n",
      "[I 2019-11-25 11:37:41,218] Setting status of trial#38 as TrialState.PRUNED. Trial was pruned at epoch 24.\n",
      "[I 2019-11-25 11:37:45,631] Setting status of trial#39 as TrialState.PRUNED. Trial was pruned at epoch 6.\n",
      "[I 2019-11-25 11:38:01,264] Setting status of trial#40 as TrialState.PRUNED. Trial was pruned at epoch 96.\n",
      "[I 2019-11-25 11:38:07,271] Setting status of trial#41 as TrialState.PRUNED. Trial was pruned at epoch 24.\n",
      "[I 2019-11-25 11:38:11,729] Setting status of trial#42 as TrialState.PRUNED. Trial was pruned at epoch 6.\n",
      "[I 2019-11-25 11:38:17,333] Setting status of trial#43 as TrialState.PRUNED. Trial was pruned at epoch 12.\n",
      "[I 2019-11-25 11:38:22,554] Setting status of trial#44 as TrialState.PRUNED. Trial was pruned at epoch 12.\n",
      "[I 2019-11-25 11:38:27,545] Setting status of trial#45 as TrialState.PRUNED. Trial was pruned at epoch 12.\n",
      "[I 2019-11-25 11:38:33,420] Setting status of trial#46 as TrialState.PRUNED. Trial was pruned at epoch 24.\n"
     ]
    },
    {
     "name": "stdout",
     "output_type": "stream",
     "text": [
      "Restoring model weights from the end of the best epoch.\n",
      "Epoch 00079: early stopping\n"
     ]
    },
    {
     "name": "stderr",
     "output_type": "stream",
     "text": [
      "[I 2019-11-25 11:38:52,044] Finished trial#47 resulted in value: 2.747048511236704. Current best value is 2.48448544106336 with parameters: {'units': 30, 'rate': 0.07800932022121826, 'rc_rate': 0.07799726016810132, 'lr': 0.006750277604651747}.\n",
      "[I 2019-11-25 11:39:01,708] Setting status of trial#48 as TrialState.PRUNED. Trial was pruned at epoch 96.\n",
      "[I 2019-11-25 11:39:06,410] Setting status of trial#49 as TrialState.PRUNED. Trial was pruned at epoch 6.\n",
      "[I 2019-11-25 11:39:11,459] Setting status of trial#50 as TrialState.PRUNED. Trial was pruned at epoch 6.\n",
      "[I 2019-11-25 11:39:17,005] Setting status of trial#51 as TrialState.PRUNED. Trial was pruned at epoch 12.\n",
      "[I 2019-11-25 11:39:21,506] Setting status of trial#52 as TrialState.PRUNED. Trial was pruned at epoch 6.\n",
      "[I 2019-11-25 11:39:27,264] Setting status of trial#53 as TrialState.PRUNED. Trial was pruned at epoch 24.\n",
      "[I 2019-11-25 11:39:32,299] Setting status of trial#54 as TrialState.PRUNED. Trial was pruned at epoch 6.\n",
      "[I 2019-11-25 11:39:38,684] Setting status of trial#55 as TrialState.PRUNED. Trial was pruned at epoch 24.\n",
      "[I 2019-11-25 11:39:43,542] Setting status of trial#56 as TrialState.PRUNED. Trial was pruned at epoch 6.\n",
      "[I 2019-11-25 11:39:49,539] Setting status of trial#57 as TrialState.PRUNED. Trial was pruned at epoch 12.\n"
     ]
    },
    {
     "name": "stdout",
     "output_type": "stream",
     "text": [
      "Restoring model weights from the end of the best epoch.\n",
      "Epoch 00063: early stopping\n"
     ]
    },
    {
     "name": "stderr",
     "output_type": "stream",
     "text": [
      "[I 2019-11-25 11:40:01,769] Finished trial#58 resulted in value: 2.8664081362970997. Current best value is 2.48448544106336 with parameters: {'units': 30, 'rate': 0.07800932022121826, 'rc_rate': 0.07799726016810132, 'lr': 0.006750277604651747}.\n",
      "[I 2019-11-25 11:40:04,710] Setting status of trial#59 as TrialState.PRUNED. Trial was pruned at epoch 6.\n",
      "[I 2019-11-25 11:40:12,125] Setting status of trial#60 as TrialState.PRUNED. Trial was pruned at epoch 48.\n",
      "[I 2019-11-25 11:40:17,967] Setting status of trial#61 as TrialState.PRUNED. Trial was pruned at epoch 12.\n",
      "[I 2019-11-25 11:40:22,700] Setting status of trial#62 as TrialState.PRUNED. Trial was pruned at epoch 6.\n",
      "[I 2019-11-25 11:40:28,137] Setting status of trial#63 as TrialState.PRUNED. Trial was pruned at epoch 12.\n",
      "[I 2019-11-25 11:40:35,829] Setting status of trial#64 as TrialState.PRUNED. Trial was pruned at epoch 48.\n",
      "[I 2019-11-25 11:40:41,446] Setting status of trial#65 as TrialState.PRUNED. Trial was pruned at epoch 12.\n",
      "[I 2019-11-25 11:40:46,211] Setting status of trial#66 as TrialState.PRUNED. Trial was pruned at epoch 6.\n",
      "[I 2019-11-25 11:40:51,548] Setting status of trial#67 as TrialState.PRUNED. Trial was pruned at epoch 12.\n",
      "[I 2019-11-25 11:40:58,287] Setting status of trial#68 as TrialState.PRUNED. Trial was pruned at epoch 24.\n",
      "[I 2019-11-25 11:41:03,118] Setting status of trial#69 as TrialState.PRUNED. Trial was pruned at epoch 6.\n",
      "[I 2019-11-25 11:41:14,137] Setting status of trial#70 as TrialState.PRUNED. Trial was pruned at epoch 48.\n",
      "[I 2019-11-25 11:41:19,022] Setting status of trial#71 as TrialState.PRUNED. Trial was pruned at epoch 6.\n",
      "[I 2019-11-25 11:41:23,929] Setting status of trial#72 as TrialState.PRUNED. Trial was pruned at epoch 6.\n",
      "[I 2019-11-25 11:41:28,644] Setting status of trial#73 as TrialState.PRUNED. Trial was pruned at epoch 6.\n",
      "[I 2019-11-25 11:41:33,542] Setting status of trial#74 as TrialState.PRUNED. Trial was pruned at epoch 6.\n",
      "[I 2019-11-25 11:41:38,258] Setting status of trial#75 as TrialState.PRUNED. Trial was pruned at epoch 6.\n",
      "[I 2019-11-25 11:41:43,954] Setting status of trial#76 as TrialState.PRUNED. Trial was pruned at epoch 12.\n",
      "[I 2019-11-25 11:41:59,533] Setting status of trial#77 as TrialState.PRUNED. Trial was pruned at epoch 96.\n",
      "[I 2019-11-25 11:42:04,251] Setting status of trial#78 as TrialState.PRUNED. Trial was pruned at epoch 6.\n",
      "[I 2019-11-25 11:42:10,800] Setting status of trial#79 as TrialState.PRUNED. Trial was pruned at epoch 24.\n",
      "[I 2019-11-25 11:42:23,879] Setting status of trial#80 as TrialState.PRUNED. Trial was pruned at epoch 96.\n",
      "[I 2019-11-25 11:42:29,643] Setting status of trial#81 as TrialState.PRUNED. Trial was pruned at epoch 12.\n",
      "[I 2019-11-25 11:42:34,589] Setting status of trial#82 as TrialState.PRUNED. Trial was pruned at epoch 6.\n",
      "[I 2019-11-25 11:42:41,105] Setting status of trial#83 as TrialState.PRUNED. Trial was pruned at epoch 24.\n",
      "[I 2019-11-25 11:42:45,560] Setting status of trial#84 as TrialState.PRUNED. Trial was pruned at epoch 6.\n",
      "[I 2019-11-25 11:42:50,209] Setting status of trial#85 as TrialState.PRUNED. Trial was pruned at epoch 6.\n",
      "[I 2019-11-25 11:42:55,009] Setting status of trial#86 as TrialState.PRUNED. Trial was pruned at epoch 6.\n",
      "[I 2019-11-25 11:43:00,764] Setting status of trial#87 as TrialState.PRUNED. Trial was pruned at epoch 12.\n",
      "[I 2019-11-25 11:43:05,664] Setting status of trial#88 as TrialState.PRUNED. Trial was pruned at epoch 6.\n",
      "[I 2019-11-25 11:43:11,232] Setting status of trial#89 as TrialState.PRUNED. Trial was pruned at epoch 24.\n"
     ]
    },
    {
     "name": "stdout",
     "output_type": "stream",
     "text": [
      "Restoring model weights from the end of the best epoch.\n",
      "Epoch 00084: early stopping\n"
     ]
    },
    {
     "name": "stderr",
     "output_type": "stream",
     "text": [
      "[I 2019-11-25 11:43:28,668] Finished trial#90 resulted in value: 2.4382576476264104. Current best value is 2.4382576476264104 with parameters: {'units': 168, 'rate': 0.0006510760487867528, 'rc_rate': 0.08427677019581933, 'lr': 0.05518962732076208}.\n",
      "[I 2019-11-25 11:43:31,733] Setting status of trial#91 as TrialState.PRUNED. Trial was pruned at epoch 6.\n",
      "[I 2019-11-25 11:43:50,017] Setting status of trial#92 as TrialState.PRUNED. Trial was pruned at epoch 96.\n",
      "[I 2019-11-25 11:43:55,059] Setting status of trial#93 as TrialState.PRUNED. Trial was pruned at epoch 6.\n",
      "[I 2019-11-25 11:43:59,865] Setting status of trial#94 as TrialState.PRUNED. Trial was pruned at epoch 6.\n",
      "[I 2019-11-25 11:44:04,580] Setting status of trial#95 as TrialState.PRUNED. Trial was pruned at epoch 6.\n"
     ]
    },
    {
     "name": "stdout",
     "output_type": "stream",
     "text": [
      "Restoring model weights from the end of the best epoch.\n",
      "Epoch 00071: early stopping\n"
     ]
    },
    {
     "name": "stderr",
     "output_type": "stream",
     "text": [
      "[I 2019-11-25 11:44:21,581] Finished trial#96 resulted in value: 2.83011978365925. Current best value is 2.4382576476264104 with parameters: {'units': 168, 'rate': 0.0006510760487867528, 'rc_rate': 0.08427677019581933, 'lr': 0.05518962732076208}.\n",
      "[I 2019-11-25 11:44:24,858] Setting status of trial#97 as TrialState.PRUNED. Trial was pruned at epoch 6.\n",
      "[I 2019-11-25 11:44:29,962] Setting status of trial#98 as TrialState.PRUNED. Trial was pruned at epoch 6.\n",
      "[I 2019-11-25 11:44:34,792] Setting status of trial#99 as TrialState.PRUNED. Trial was pruned at epoch 6.\n"
     ]
    },
    {
     "name": "stdout",
     "output_type": "stream",
     "text": [
      "{'units': 168, 'rate': 0.0006510760487867528, 'rc_rate': 0.08427677019581933, 'lr': 0.05518962732076208}\n"
     ]
    }
   ],
   "source": [
    "folder = './saved_model/LSTM'\n",
    "for the_file in os.listdir(folder):\n",
    "    file_path = os.path.join(folder, the_file)\n",
    "    try:\n",
    "        if os.path.isfile(file_path):\n",
    "            os.unlink(file_path)\n",
    "    except Exception as e:\n",
    "        print(e)\n",
    "\n",
    "def objective(trial):\n",
    "    \n",
    "    reset_graph()\n",
    "    model = Sequential()\n",
    "    model.add(LSTM(units=trial.suggest_int('units',10,200), input_shape=(5,1), activation=\"tanh\", recurrent_activation=\"sigmoid\", \n",
    "                   kernel_initializer=\"he_normal\", recurrent_initializer=\"he_normal\", bias_initializer=\"he_normal\", \n",
    "                   dropout=trial.suggest_uniform('rate',0,0.5), recurrent_dropout=trial.suggest_uniform('rc_rate',0,0.5)))\n",
    "    model.add(Dense(units=1, kernel_initializer='he_normal', bias_initializer='he_normal', activation='linear', \n",
    "                    kernel_regularizer=l1_l2(l1=0.01,l2=0.01), bias_regularizer=l1_l2(l1=0.01,l2=0.01)))\n",
    "    \n",
    "    adam=Adam(lr=trial.suggest_loguniform('lr',0.001,0.1), beta_1=0.9, beta_2=0.999, epsilon=None, decay=0.0, amsgrad=False)\n",
    "    model.compile(loss='mean_absolute_percentage_error', optimizer=adam)\n",
    "    \n",
    "    early_stop = EarlyStopping(monitor='val_loss', patience=50, verbose=1, restore_best_weights=True)\n",
    "    pruning_callback = TFKerasPruningCallback(trial, 'val_loss')\n",
    "    \n",
    "    model.fit(X_train_reshape,y_train_reshape,epochs=1000,batch_size=50,verbose=0,validation_split=0.3,\n",
    "              callbacks=[early_stop,pruning_callback])\n",
    "    \n",
    "    model_json = model.to_json()\n",
    "    with open(\"./saved_model/LSTM/model_{}.json\".format(trial.number),\"w\") as json_file:\n",
    "        json_file.write(model_json)\n",
    "    model.save_weights(\"./saved_model/LSTM/model_{}.h5\".format(trial.number))\n",
    "    \n",
    "    forecast_result=model.predict(X_forecast_reshape)\n",
    "    \n",
    "    y_predict = np.zeros(250)\n",
    "    \n",
    "    for i in range(len(forecast_result)):\n",
    "        y_predict[i] = forecast_result[i]\n",
    "        \n",
    "    mape1 = np.abs((y_forecast - y_predict)/(y_forecast+0.00000001))\n",
    "    mape2 = 0\n",
    "    \n",
    "    for i in range(len(mape1)):\n",
    "        mape2 += mape1[i]\n",
    "        \n",
    "    mape3 = 100 * (mape2 / len(mape1))\n",
    "    \n",
    "    return mape3\n",
    "\n",
    "sampler = TPESampler(**TPESampler.hyperopt_parameters(), seed=42)\n",
    "pruner = SuccessiveHalvingPruner(min_resource=3, reduction_factor=2, min_early_stopping_rate=1)\n",
    "study = optuna.create_study(pruner=pruner, sampler=sampler)\n",
    "study.optimize(objective, n_trials=100, n_jobs=1)\n",
    "\n",
    "print(study.best_params)"
   ]
  },
  {
   "cell_type": "code",
   "execution_count": 124,
   "metadata": {},
   "outputs": [],
   "source": [
    "json_file = open(\"./saved_model/LSTM/model_{}.json\".format(study.best_trial.number),\"r\")\n",
    "loaded_model_json = json_file.read()\n",
    "json_file.close()\n",
    "best_model = model_from_json(loaded_model_json)\n",
    "best_model.load_weights(\"./saved_model/LSTM/model_{}.h5\".format(study.best_trial.number))\n",
    "forecast_result=best_model.predict(X_forecast_reshape)"
   ]
  },
  {
   "cell_type": "markdown",
   "metadata": {},
   "source": [
    "# XGBoost"
   ]
  },
  {
   "cell_type": "code",
   "execution_count": 9,
   "metadata": {},
   "outputs": [],
   "source": [
    "import xgboost as xgb"
   ]
  },
  {
   "cell_type": "code",
   "execution_count": 10,
   "metadata": {},
   "outputs": [],
   "source": [
    "data_matrix = xgb.DMatrix(data=X_train, label=y_train)"
   ]
  },
  {
   "cell_type": "code",
   "execution_count": 11,
   "metadata": {},
   "outputs": [],
   "source": [
    "from sklearn.model_selection import GridSearchCV\n",
    "\n",
    "#training model with k-fold cross validation\n",
    "def train_model_with_cv(model, params, X_train, y_train):\n",
    "    gs_clf = GridSearchCV(model, params, n_jobs=-2, cv=5, verbose=1)\n",
    "    gs_clf = gs_clf.fit(X_train, y_train)\n",
    "    model = gs_clf.best_estimator_\n",
    "    \n",
    "    return model"
   ]
  },
  {
   "cell_type": "code",
   "execution_count": 23,
   "metadata": {
    "scrolled": true
   },
   "outputs": [
    {
     "name": "stdout",
     "output_type": "stream",
     "text": [
      "Fitting 5 folds for each of 11664 candidates, totalling 58320 fits\n"
     ]
    },
    {
     "name": "stderr",
     "output_type": "stream",
     "text": [
      "[Parallel(n_jobs=-2)]: Using backend LokyBackend with 7 concurrent workers.\n",
      "[Parallel(n_jobs=-2)]: Done  36 tasks      | elapsed:    1.4s\n",
      "[Parallel(n_jobs=-2)]: Done 186 tasks      | elapsed:    8.3s\n",
      "[Parallel(n_jobs=-2)]: Done 436 tasks      | elapsed:   26.6s\n",
      "[Parallel(n_jobs=-2)]: Done 786 tasks      | elapsed:   49.9s\n",
      "[Parallel(n_jobs=-2)]: Done 1236 tasks      | elapsed:  1.3min\n",
      "[Parallel(n_jobs=-2)]: Done 1786 tasks      | elapsed:  1.9min\n",
      "[Parallel(n_jobs=-2)]: Done 2436 tasks      | elapsed:  3.1min\n",
      "[Parallel(n_jobs=-2)]: Done 3186 tasks      | elapsed:  4.2min\n",
      "[Parallel(n_jobs=-2)]: Done 4036 tasks      | elapsed:  6.5min\n",
      "[Parallel(n_jobs=-2)]: Done 4986 tasks      | elapsed:  9.1min\n",
      "[Parallel(n_jobs=-2)]: Done 6036 tasks      | elapsed: 13.1min\n",
      "[Parallel(n_jobs=-2)]: Done 7186 tasks      | elapsed: 15.6min\n",
      "[Parallel(n_jobs=-2)]: Done 8436 tasks      | elapsed: 17.0min\n",
      "[Parallel(n_jobs=-2)]: Done 9786 tasks      | elapsed: 19.1min\n",
      "[Parallel(n_jobs=-2)]: Done 11236 tasks      | elapsed: 23.1min\n",
      "[Parallel(n_jobs=-2)]: Done 12786 tasks      | elapsed: 28.8min\n",
      "[Parallel(n_jobs=-2)]: Done 14436 tasks      | elapsed: 31.2min\n",
      "[Parallel(n_jobs=-2)]: Done 16186 tasks      | elapsed: 33.8min\n",
      "[Parallel(n_jobs=-2)]: Done 18036 tasks      | elapsed: 38.7min\n",
      "[Parallel(n_jobs=-2)]: Done 19986 tasks      | elapsed: 44.7min\n",
      "[Parallel(n_jobs=-2)]: Done 22036 tasks      | elapsed: 47.7min\n",
      "[Parallel(n_jobs=-2)]: Done 24186 tasks      | elapsed: 54.0min\n",
      "[Parallel(n_jobs=-2)]: Done 26436 tasks      | elapsed: 62.5min\n",
      "[Parallel(n_jobs=-2)]: Done 28786 tasks      | elapsed: 66.1min\n",
      "[Parallel(n_jobs=-2)]: Done 31236 tasks      | elapsed: 74.4min\n",
      "[Parallel(n_jobs=-2)]: Done 33786 tasks      | elapsed: 81.9min\n",
      "[Parallel(n_jobs=-2)]: Done 36436 tasks      | elapsed: 87.7min\n",
      "[Parallel(n_jobs=-2)]: Done 39186 tasks      | elapsed: 98.3min\n",
      "[Parallel(n_jobs=-2)]: Done 42036 tasks      | elapsed: 103.9min\n",
      "[Parallel(n_jobs=-2)]: Done 44986 tasks      | elapsed: 119.2min\n",
      "[Parallel(n_jobs=-2)]: Done 48036 tasks      | elapsed: 126.5min\n",
      "[Parallel(n_jobs=-2)]: Done 51186 tasks      | elapsed: 141.4min\n",
      "[Parallel(n_jobs=-2)]: Done 54436 tasks      | elapsed: 150.3min\n",
      "[Parallel(n_jobs=-2)]: Done 57786 tasks      | elapsed: 165.8min\n",
      "[Parallel(n_jobs=-2)]: Done 58320 out of 58320 | elapsed: 169.4min finished\n"
     ]
    },
    {
     "name": "stdout",
     "output_type": "stream",
     "text": [
      "XGBRegressor(base_score=0.5, booster='gbtree', colsample_bylevel=1,\n",
      "             colsample_bynode=1, colsample_bytree=1, gamma=0.1,\n",
      "             importance_type='gain', learning_rate=0.1, max_delta_step=0,\n",
      "             max_depth=3, min_child_weight=1, missing=None, n_estimators=300,\n",
      "             n_jobs=1, nthread=None, objective='reg:squarederror',\n",
      "             random_state=42, reg_alpha=0.1, reg_lambda=0.1, scale_pos_weight=1,\n",
      "             seed=None, silent=None, subsample=1, verbosity=1)\n"
     ]
    }
   ],
   "source": [
    "xg_reg = xgb.XGBRegressor(objective ='reg:squarederror', random_state = 42)\n",
    "\n",
    "parameters = {'max_depth': [3,5,10,15],\n",
    "              'learning_rate': [0.1],\n",
    "              'n_estimators': [300,500,750],\n",
    "              'gamma': [0,0.01,0.1],\n",
    "              'min_child_weight': [1,3,5,7],\n",
    "              'subsample': [0.5,0.7,1],\n",
    "              'colsample_bytree': [0.5,0.7,1],\n",
    "              'reg_alpha': [0,0.01,0.1],\n",
    "              'reg_lambda': [0,0.01,0.1]\n",
    "             }\n",
    "\n",
    "xgb_best = train_model_with_cv(xg_reg, parameters, X_train, y_train)\n",
    "print(xgb_best)\n",
    "forecast_result = xgb_best.predict(X_forecast)"
   ]
  },
  {
   "cell_type": "markdown",
   "metadata": {},
   "source": [
    "# Result"
   ]
  },
  {
   "cell_type": "code",
   "execution_count": 125,
   "metadata": {
    "scrolled": false
   },
   "outputs": [
    {
     "data": {
      "text/plain": [
       "<matplotlib.legend.Legend at 0x1ac35ef5780>"
      ]
     },
     "execution_count": 125,
     "metadata": {},
     "output_type": "execute_result"
    },
    {
     "data": {
      "image/png": "[encoded data removed]",
      "text/plain": [
       "<Figure size 1080x576 with 1 Axes>"
      ]
     },
     "metadata": {
      "needs_background": "light"
     },
     "output_type": "display_data"
    }
   ],
   "source": [
    "plt.figure(figsize=(15, 8))\n",
    "plt.plot(y_forecast)\n",
    "plt.plot(forecast_result)\n",
    "\n",
    "plt.legend(['real', 'predict'])"
   ]
  },
  {
   "cell_type": "code",
   "execution_count": 126,
   "metadata": {},
   "outputs": [
    {
     "data": {
      "text/plain": [
       "2.4382576476264104"
      ]
     },
     "execution_count": 126,
     "metadata": {},
     "output_type": "execute_result"
    }
   ],
   "source": [
    "y_predict = np.zeros(250)\n",
    "for i in range(len(forecast_result)):\n",
    "    y_predict[i] = forecast_result[i]\n",
    "\n",
    "mape1 = np.abs((y_forecast - y_predict)/(y_forecast+0.00000001))\n",
    "\n",
    "mape2 = 0\n",
    "for i in range(len(mape1)):\n",
    "    mape2 += mape1[i]\n",
    "\n",
    "mape3 = 100 * (mape2 / len(mape1))\n",
    "mape3"
   ]
  },
  {
   "cell_type": "code",
   "execution_count": null,
   "metadata": {},
   "outputs": [],
   "source": []
  }
 ],
 "metadata": {
  "kernelspec": {
   "display_name": "Python 3",
   "language": "python",
   "name": "python3"
  },
  "language_info": {
   "codemirror_mode": {
    "name": "ipython",
    "version": 3
   },
   "file_extension": ".py",
   "mimetype": "text/x-python",
   "name": "python",
   "nbconvert_exporter": "python",
   "pygments_lexer": "ipython3",
   "version": "3.6.7"
  }
 },
 "nbformat": 4,
 "nbformat_minor": 2
}
