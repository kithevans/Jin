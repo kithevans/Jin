{
  "nbformat": 4,
  "nbformat_minor": 0,
  "metadata": {
    "kernelspec": {
      "display_name": "Python 3",
      "language": "python",
      "name": "python3"
    },
    "language_info": {
      "codemirror_mode": {
        "name": "ipython",
        "version": 3
      },
      "file_extension": ".py",
      "mimetype": "text/x-python",
      "name": "python",
      "nbconvert_exporter": "python",
      "pygments_lexer": "ipython3",
      "version": "3.6.8"
    },
    "colab": {
      "name": "Structural Break ANN_nickel_deep_dropout_batch_normalization.ipynb",
      "provenance": [],
      "collapsed_sections": [],
      "include_colab_link": true
    }
  },
  "cells": [
    {
      "cell_type": "markdown",
      "metadata": {
        "id": "view-in-github",
        "colab_type": "text"
      },
      "source": [
        "<a href=\"https://colab.research.google.com/github/kithevans/Jin/blob/master/Structural_Break_ANN_nickel_deep_dropout_batch_normalization.ipynb\" target=\"_parent\"><img src=\"https://colab.research.google.com/assets/colab-badge.svg\" alt=\"Open In Colab\"/></a>"
      ]
    },
    {
      "cell_type": "code",
      "metadata": {
        "id": "wH6fWnTRARyD",
        "colab_type": "code",
        "outputId": "869c0c27-73c2-4223-a168-4c850be84461",
        "colab": {
          "base_uri": "https://localhost:8080/",
          "height": 71
        }
      },
      "source": [
        "import numpy as np\n",
        "import os\n",
        "import tensorflow as tf\n",
        "import pandas as pd\n",
        "import random\n",
        "# to make this notebook's output stable across runs\n",
        "def reset_graph(seed=42):\n",
        "    tf.reset_default_graph()\n",
        "    tf.set_random_seed(seed)\n",
        "    np.random.seed(seed)\n",
        "\n",
        "%matplotlib inline\n",
        "import matplotlib\n",
        "import matplotlib.pyplot as plt\n",
        "\n",
        "from google.colab import drive\n",
        "drive.mount('/gdrive')\n",
        "trn = pd.read_csv('/gdrive/My Drive/Energy_Forecasting/WTI_daily.txt', sep='\\t' ,header=0)\n",
        "trn_gold = pd.read_csv('/gdrive/My Drive/Energy_Forecasting/COMEX_Gold_daily.txt', sep='\\t' ,header=0)\n",
        "trn_nickel = pd.read_csv('/gdrive/My Drive/Energy_Forecasting/Nickel_daily.txt', sep='\\t' ,header=0)\n",
        "\n",
        "!git clone https://github.com/nyg520/Structural-Break-ANN.git"
      ],
      "execution_count": 42,
      "outputs": [
        {
          "output_type": "stream",
          "text": [
            "Drive already mounted at /gdrive; to attempt to forcibly remount, call drive.mount(\"/gdrive\", force_remount=True).\n",
            "Cloning into 'Structural-Break-ANN'...\n",
            "fatal: could not read Username for 'https://github.com': No such device or address\n"
          ],
          "name": "stdout"
        }
      ]
    },
    {
      "cell_type": "code",
      "metadata": {
        "id": "VNpNjjD6ARyG",
        "colab_type": "code",
        "colab": {}
      },
      "source": [
        "# HH = pd.read_csv('HH_daily.csv')\n",
        "# WTI = pd.read_csv('WTI_daily.csv')\n",
        "# gold = pd.read_csv('COMEX_Gold_daily.csv')\n",
        "# copper = pd.read_csv('COMEX_Copper_daily.csv')\n",
        "# nickel = pd.read_csv('Nickel_daily.csv')\n",
        "# zinc = pd.read_csv('Zinc_daily.csv')"
      ],
      "execution_count": 0,
      "outputs": []
    },
    {
      "cell_type": "code",
      "metadata": {
        "scrolled": true,
        "id": "XijSHkrUARyJ",
        "colab_type": "code",
        "outputId": "7bc0c35f-ed4a-443c-bddb-af332ee00c93",
        "colab": {
          "base_uri": "https://localhost:8080/",
          "height": 49
        }
      },
      "source": [
        "trn_nickel[trn_nickel.isnull().any(axis=1)]"
      ],
      "execution_count": 3,
      "outputs": [
        {
          "output_type": "execute_result",
          "data": {
            "text/html": [
              "<div>\n",
              "<style scoped>\n",
              "    .dataframe tbody tr th:only-of-type {\n",
              "        vertical-align: middle;\n",
              "    }\n",
              "\n",
              "    .dataframe tbody tr th {\n",
              "        vertical-align: top;\n",
              "    }\n",
              "\n",
              "    .dataframe thead th {\n",
              "        text-align: right;\n",
              "    }\n",
              "</style>\n",
              "<table border=\"1\" class=\"dataframe\">\n",
              "  <thead>\n",
              "    <tr style=\"text-align: right;\">\n",
              "      <th></th>\n",
              "      <th>Date</th>\n",
              "      <th>Nickel</th>\n",
              "    </tr>\n",
              "  </thead>\n",
              "  <tbody>\n",
              "  </tbody>\n",
              "</table>\n",
              "</div>"
            ],
            "text/plain": [
              "Empty DataFrame\n",
              "Columns: [Date, Nickel]\n",
              "Index: []"
            ]
          },
          "metadata": {
            "tags": []
          },
          "execution_count": 3
        }
      ]
    },
    {
      "cell_type": "code",
      "metadata": {
        "id": "RdFCeCETARyM",
        "colab_type": "code",
        "colab": {}
      },
      "source": [
        "# HH.drop([5284],inplace=True)"
      ],
      "execution_count": 0,
      "outputs": []
    },
    {
      "cell_type": "code",
      "metadata": {
        "id": "7tozOvV7ARyO",
        "colab_type": "code",
        "colab": {}
      },
      "source": [
        "# HH.reset_index(drop=True,inplace=True)"
      ],
      "execution_count": 0,
      "outputs": []
    },
    {
      "cell_type": "code",
      "metadata": {
        "id": "lC1X2ywhARyQ",
        "colab_type": "code",
        "outputId": "69563d4c-5076-467f-c4fd-1234c616d651",
        "colab": {
          "base_uri": "https://localhost:8080/",
          "height": 1000
        }
      },
      "source": [
        "len(trn_nickel)\n",
        "trn_nickel"
      ],
      "execution_count": 6,
      "outputs": [
        {
          "output_type": "execute_result",
          "data": {
            "text/html": [
              "<div>\n",
              "<style scoped>\n",
              "    .dataframe tbody tr th:only-of-type {\n",
              "        vertical-align: middle;\n",
              "    }\n",
              "\n",
              "    .dataframe tbody tr th {\n",
              "        vertical-align: top;\n",
              "    }\n",
              "\n",
              "    .dataframe thead th {\n",
              "        text-align: right;\n",
              "    }\n",
              "</style>\n",
              "<table border=\"1\" class=\"dataframe\">\n",
              "  <thead>\n",
              "    <tr style=\"text-align: right;\">\n",
              "      <th></th>\n",
              "      <th>Date</th>\n",
              "      <th>Nickel</th>\n",
              "    </tr>\n",
              "  </thead>\n",
              "  <tbody>\n",
              "    <tr>\n",
              "      <th>0</th>\n",
              "      <td>28-Nov-18</td>\n",
              "      <td>10735</td>\n",
              "    </tr>\n",
              "    <tr>\n",
              "      <th>1</th>\n",
              "      <td>27-Nov-18</td>\n",
              "      <td>10710</td>\n",
              "    </tr>\n",
              "    <tr>\n",
              "      <th>2</th>\n",
              "      <td>26-Nov-18</td>\n",
              "      <td>10770</td>\n",
              "    </tr>\n",
              "    <tr>\n",
              "      <th>3</th>\n",
              "      <td>23-Nov-18</td>\n",
              "      <td>10710</td>\n",
              "    </tr>\n",
              "    <tr>\n",
              "      <th>4</th>\n",
              "      <td>22-Nov-18</td>\n",
              "      <td>10970</td>\n",
              "    </tr>\n",
              "    <tr>\n",
              "      <th>5</th>\n",
              "      <td>21-Nov-18</td>\n",
              "      <td>11085</td>\n",
              "    </tr>\n",
              "    <tr>\n",
              "      <th>6</th>\n",
              "      <td>20-Nov-18</td>\n",
              "      <td>11190</td>\n",
              "    </tr>\n",
              "    <tr>\n",
              "      <th>7</th>\n",
              "      <td>19-Nov-18</td>\n",
              "      <td>11200</td>\n",
              "    </tr>\n",
              "    <tr>\n",
              "      <th>8</th>\n",
              "      <td>16-Nov-18</td>\n",
              "      <td>11280</td>\n",
              "    </tr>\n",
              "    <tr>\n",
              "      <th>9</th>\n",
              "      <td>15-Nov-18</td>\n",
              "      <td>11340</td>\n",
              "    </tr>\n",
              "    <tr>\n",
              "      <th>10</th>\n",
              "      <td>14-Nov-18</td>\n",
              "      <td>11225</td>\n",
              "    </tr>\n",
              "    <tr>\n",
              "      <th>11</th>\n",
              "      <td>13-Nov-18</td>\n",
              "      <td>11370</td>\n",
              "    </tr>\n",
              "    <tr>\n",
              "      <th>12</th>\n",
              "      <td>12-Nov-18</td>\n",
              "      <td>11290</td>\n",
              "    </tr>\n",
              "    <tr>\n",
              "      <th>13</th>\n",
              "      <td>09-Nov-18</td>\n",
              "      <td>11470</td>\n",
              "    </tr>\n",
              "    <tr>\n",
              "      <th>14</th>\n",
              "      <td>08-Nov-18</td>\n",
              "      <td>11615</td>\n",
              "    </tr>\n",
              "    <tr>\n",
              "      <th>15</th>\n",
              "      <td>07-Nov-18</td>\n",
              "      <td>11670</td>\n",
              "    </tr>\n",
              "    <tr>\n",
              "      <th>16</th>\n",
              "      <td>06-Nov-18</td>\n",
              "      <td>11820</td>\n",
              "    </tr>\n",
              "    <tr>\n",
              "      <th>17</th>\n",
              "      <td>05-Nov-18</td>\n",
              "      <td>11680</td>\n",
              "    </tr>\n",
              "    <tr>\n",
              "      <th>18</th>\n",
              "      <td>02-Nov-18</td>\n",
              "      <td>11980</td>\n",
              "    </tr>\n",
              "    <tr>\n",
              "      <th>19</th>\n",
              "      <td>01-Nov-18</td>\n",
              "      <td>11555</td>\n",
              "    </tr>\n",
              "    <tr>\n",
              "      <th>20</th>\n",
              "      <td>31-Oct-18</td>\n",
              "      <td>11625</td>\n",
              "    </tr>\n",
              "    <tr>\n",
              "      <th>21</th>\n",
              "      <td>30-Oct-18</td>\n",
              "      <td>11700</td>\n",
              "    </tr>\n",
              "    <tr>\n",
              "      <th>22</th>\n",
              "      <td>29-Oct-18</td>\n",
              "      <td>11725</td>\n",
              "    </tr>\n",
              "    <tr>\n",
              "      <th>23</th>\n",
              "      <td>26-Oct-18</td>\n",
              "      <td>11835</td>\n",
              "    </tr>\n",
              "    <tr>\n",
              "      <th>24</th>\n",
              "      <td>25-Oct-18</td>\n",
              "      <td>12135</td>\n",
              "    </tr>\n",
              "    <tr>\n",
              "      <th>25</th>\n",
              "      <td>24-Oct-18</td>\n",
              "      <td>12295</td>\n",
              "    </tr>\n",
              "    <tr>\n",
              "      <th>26</th>\n",
              "      <td>23-Oct-18</td>\n",
              "      <td>12330</td>\n",
              "    </tr>\n",
              "    <tr>\n",
              "      <th>27</th>\n",
              "      <td>22-Oct-18</td>\n",
              "      <td>12455</td>\n",
              "    </tr>\n",
              "    <tr>\n",
              "      <th>28</th>\n",
              "      <td>19-Oct-18</td>\n",
              "      <td>12470</td>\n",
              "    </tr>\n",
              "    <tr>\n",
              "      <th>29</th>\n",
              "      <td>18-Oct-18</td>\n",
              "      <td>12140</td>\n",
              "    </tr>\n",
              "    <tr>\n",
              "      <th>...</th>\n",
              "      <td>...</td>\n",
              "      <td>...</td>\n",
              "    </tr>\n",
              "    <tr>\n",
              "      <th>7507</th>\n",
              "      <td>13-Feb-89</td>\n",
              "      <td>19200</td>\n",
              "    </tr>\n",
              "    <tr>\n",
              "      <th>7508</th>\n",
              "      <td>10-Feb-89</td>\n",
              "      <td>19000</td>\n",
              "    </tr>\n",
              "    <tr>\n",
              "      <th>7509</th>\n",
              "      <td>09-Feb-89</td>\n",
              "      <td>18250</td>\n",
              "    </tr>\n",
              "    <tr>\n",
              "      <th>7510</th>\n",
              "      <td>08-Feb-89</td>\n",
              "      <td>18500</td>\n",
              "    </tr>\n",
              "    <tr>\n",
              "      <th>7511</th>\n",
              "      <td>07-Feb-89</td>\n",
              "      <td>18200</td>\n",
              "    </tr>\n",
              "    <tr>\n",
              "      <th>7512</th>\n",
              "      <td>06-Feb-89</td>\n",
              "      <td>18100</td>\n",
              "    </tr>\n",
              "    <tr>\n",
              "      <th>7513</th>\n",
              "      <td>03-Feb-89</td>\n",
              "      <td>18000</td>\n",
              "    </tr>\n",
              "    <tr>\n",
              "      <th>7514</th>\n",
              "      <td>02-Feb-89</td>\n",
              "      <td>17800</td>\n",
              "    </tr>\n",
              "    <tr>\n",
              "      <th>7515</th>\n",
              "      <td>01-Feb-89</td>\n",
              "      <td>18100</td>\n",
              "    </tr>\n",
              "    <tr>\n",
              "      <th>7516</th>\n",
              "      <td>31-Jan-89</td>\n",
              "      <td>17750</td>\n",
              "    </tr>\n",
              "    <tr>\n",
              "      <th>7517</th>\n",
              "      <td>30-Jan-89</td>\n",
              "      <td>18200</td>\n",
              "    </tr>\n",
              "    <tr>\n",
              "      <th>7518</th>\n",
              "      <td>27-Jan-89</td>\n",
              "      <td>18700</td>\n",
              "    </tr>\n",
              "    <tr>\n",
              "      <th>7519</th>\n",
              "      <td>26-Jan-89</td>\n",
              "      <td>18550</td>\n",
              "    </tr>\n",
              "    <tr>\n",
              "      <th>7520</th>\n",
              "      <td>25-Jan-89</td>\n",
              "      <td>18050</td>\n",
              "    </tr>\n",
              "    <tr>\n",
              "      <th>7521</th>\n",
              "      <td>24-Jan-89</td>\n",
              "      <td>19200</td>\n",
              "    </tr>\n",
              "    <tr>\n",
              "      <th>7522</th>\n",
              "      <td>23-Jan-89</td>\n",
              "      <td>18900</td>\n",
              "    </tr>\n",
              "    <tr>\n",
              "      <th>7523</th>\n",
              "      <td>20-Jan-89</td>\n",
              "      <td>18800</td>\n",
              "    </tr>\n",
              "    <tr>\n",
              "      <th>7524</th>\n",
              "      <td>19-Jan-89</td>\n",
              "      <td>17650</td>\n",
              "    </tr>\n",
              "    <tr>\n",
              "      <th>7525</th>\n",
              "      <td>18-Jan-89</td>\n",
              "      <td>17500</td>\n",
              "    </tr>\n",
              "    <tr>\n",
              "      <th>7526</th>\n",
              "      <td>17-Jan-89</td>\n",
              "      <td>16900</td>\n",
              "    </tr>\n",
              "    <tr>\n",
              "      <th>7527</th>\n",
              "      <td>16-Jan-89</td>\n",
              "      <td>16200</td>\n",
              "    </tr>\n",
              "    <tr>\n",
              "      <th>7528</th>\n",
              "      <td>13-Jan-89</td>\n",
              "      <td>16250</td>\n",
              "    </tr>\n",
              "    <tr>\n",
              "      <th>7529</th>\n",
              "      <td>12-Jan-89</td>\n",
              "      <td>16400</td>\n",
              "    </tr>\n",
              "    <tr>\n",
              "      <th>7530</th>\n",
              "      <td>11-Jan-89</td>\n",
              "      <td>16400</td>\n",
              "    </tr>\n",
              "    <tr>\n",
              "      <th>7531</th>\n",
              "      <td>10-Jan-89</td>\n",
              "      <td>17000</td>\n",
              "    </tr>\n",
              "    <tr>\n",
              "      <th>7532</th>\n",
              "      <td>09-Jan-89</td>\n",
              "      <td>16000</td>\n",
              "    </tr>\n",
              "    <tr>\n",
              "      <th>7533</th>\n",
              "      <td>06-Jan-89</td>\n",
              "      <td>17600</td>\n",
              "    </tr>\n",
              "    <tr>\n",
              "      <th>7534</th>\n",
              "      <td>05-Jan-89</td>\n",
              "      <td>19200</td>\n",
              "    </tr>\n",
              "    <tr>\n",
              "      <th>7535</th>\n",
              "      <td>04-Jan-89</td>\n",
              "      <td>19150</td>\n",
              "    </tr>\n",
              "    <tr>\n",
              "      <th>7536</th>\n",
              "      <td>03-Jan-89</td>\n",
              "      <td>18800</td>\n",
              "    </tr>\n",
              "  </tbody>\n",
              "</table>\n",
              "<p>7537 rows × 2 columns</p>\n",
              "</div>"
            ],
            "text/plain": [
              "           Date  Nickel\n",
              "0     28-Nov-18   10735\n",
              "1     27-Nov-18   10710\n",
              "2     26-Nov-18   10770\n",
              "3     23-Nov-18   10710\n",
              "4     22-Nov-18   10970\n",
              "5     21-Nov-18   11085\n",
              "6     20-Nov-18   11190\n",
              "7     19-Nov-18   11200\n",
              "8     16-Nov-18   11280\n",
              "9     15-Nov-18   11340\n",
              "10    14-Nov-18   11225\n",
              "11    13-Nov-18   11370\n",
              "12    12-Nov-18   11290\n",
              "13    09-Nov-18   11470\n",
              "14    08-Nov-18   11615\n",
              "15    07-Nov-18   11670\n",
              "16    06-Nov-18   11820\n",
              "17    05-Nov-18   11680\n",
              "18    02-Nov-18   11980\n",
              "19    01-Nov-18   11555\n",
              "20    31-Oct-18   11625\n",
              "21    30-Oct-18   11700\n",
              "22    29-Oct-18   11725\n",
              "23    26-Oct-18   11835\n",
              "24    25-Oct-18   12135\n",
              "25    24-Oct-18   12295\n",
              "26    23-Oct-18   12330\n",
              "27    22-Oct-18   12455\n",
              "28    19-Oct-18   12470\n",
              "29    18-Oct-18   12140\n",
              "...         ...     ...\n",
              "7507  13-Feb-89   19200\n",
              "7508  10-Feb-89   19000\n",
              "7509  09-Feb-89   18250\n",
              "7510  08-Feb-89   18500\n",
              "7511  07-Feb-89   18200\n",
              "7512  06-Feb-89   18100\n",
              "7513  03-Feb-89   18000\n",
              "7514  02-Feb-89   17800\n",
              "7515  01-Feb-89   18100\n",
              "7516  31-Jan-89   17750\n",
              "7517  30-Jan-89   18200\n",
              "7518  27-Jan-89   18700\n",
              "7519  26-Jan-89   18550\n",
              "7520  25-Jan-89   18050\n",
              "7521  24-Jan-89   19200\n",
              "7522  23-Jan-89   18900\n",
              "7523  20-Jan-89   18800\n",
              "7524  19-Jan-89   17650\n",
              "7525  18-Jan-89   17500\n",
              "7526  17-Jan-89   16900\n",
              "7527  16-Jan-89   16200\n",
              "7528  13-Jan-89   16250\n",
              "7529  12-Jan-89   16400\n",
              "7530  11-Jan-89   16400\n",
              "7531  10-Jan-89   17000\n",
              "7532  09-Jan-89   16000\n",
              "7533  06-Jan-89   17600\n",
              "7534  05-Jan-89   19200\n",
              "7535  04-Jan-89   19150\n",
              "7536  03-Jan-89   18800\n",
              "\n",
              "[7537 rows x 2 columns]"
            ]
          },
          "metadata": {
            "tags": []
          },
          "execution_count": 6
        }
      ]
    },
    {
      "cell_type": "code",
      "metadata": {
        "id": "Wo7GgV9kARyS",
        "colab_type": "code",
        "colab": {}
      },
      "source": [
        "# HH[HH.isnull().any(axis=1)]"
      ],
      "execution_count": 0,
      "outputs": []
    },
    {
      "cell_type": "code",
      "metadata": {
        "scrolled": true,
        "id": "z00bWghXARyU",
        "colab_type": "code",
        "colab": {}
      },
      "source": [
        "num = 1\n",
        "\n",
        "lags = range(1, (1+num))\n",
        "trn_nickel= trn_nickel.assign(**{\n",
        "    '{} (t-{})'.format('Nickel', t): trn_nickel[\"Nickel\"].shift(t)\n",
        "    for t in lags\n",
        "})"
      ],
      "execution_count": 0,
      "outputs": []
    },
    {
      "cell_type": "code",
      "metadata": {
        "id": "1l1dGfmpARyW",
        "colab_type": "code",
        "colab": {}
      },
      "source": [
        "for i in range(num):\n",
        "    trn_nickel.drop([i],inplace=True)\n",
        "\n",
        "trn_nickel.reset_index(drop=True,inplace=True)"
      ],
      "execution_count": 0,
      "outputs": []
    },
    {
      "cell_type": "code",
      "metadata": {
        "id": "8tlH5d-DQxdc",
        "colab_type": "code",
        "outputId": "59a556dc-91ad-4a1e-8648-5d75e523af1f",
        "colab": {
          "base_uri": "https://localhost:8080/",
          "height": 204
        }
      },
      "source": [
        "trn_nickel.head()"
      ],
      "execution_count": 10,
      "outputs": [
        {
          "output_type": "execute_result",
          "data": {
            "text/html": [
              "<div>\n",
              "<style scoped>\n",
              "    .dataframe tbody tr th:only-of-type {\n",
              "        vertical-align: middle;\n",
              "    }\n",
              "\n",
              "    .dataframe tbody tr th {\n",
              "        vertical-align: top;\n",
              "    }\n",
              "\n",
              "    .dataframe thead th {\n",
              "        text-align: right;\n",
              "    }\n",
              "</style>\n",
              "<table border=\"1\" class=\"dataframe\">\n",
              "  <thead>\n",
              "    <tr style=\"text-align: right;\">\n",
              "      <th></th>\n",
              "      <th>Date</th>\n",
              "      <th>Nickel</th>\n",
              "      <th>Nickel (t-1)</th>\n",
              "    </tr>\n",
              "  </thead>\n",
              "  <tbody>\n",
              "    <tr>\n",
              "      <th>0</th>\n",
              "      <td>27-Nov-18</td>\n",
              "      <td>10710</td>\n",
              "      <td>10735.0</td>\n",
              "    </tr>\n",
              "    <tr>\n",
              "      <th>1</th>\n",
              "      <td>26-Nov-18</td>\n",
              "      <td>10770</td>\n",
              "      <td>10710.0</td>\n",
              "    </tr>\n",
              "    <tr>\n",
              "      <th>2</th>\n",
              "      <td>23-Nov-18</td>\n",
              "      <td>10710</td>\n",
              "      <td>10770.0</td>\n",
              "    </tr>\n",
              "    <tr>\n",
              "      <th>3</th>\n",
              "      <td>22-Nov-18</td>\n",
              "      <td>10970</td>\n",
              "      <td>10710.0</td>\n",
              "    </tr>\n",
              "    <tr>\n",
              "      <th>4</th>\n",
              "      <td>21-Nov-18</td>\n",
              "      <td>11085</td>\n",
              "      <td>10970.0</td>\n",
              "    </tr>\n",
              "  </tbody>\n",
              "</table>\n",
              "</div>"
            ],
            "text/plain": [
              "        Date  Nickel  Nickel (t-1)\n",
              "0  27-Nov-18   10710       10735.0\n",
              "1  26-Nov-18   10770       10710.0\n",
              "2  23-Nov-18   10710       10770.0\n",
              "3  22-Nov-18   10970       10710.0\n",
              "4  21-Nov-18   11085       10970.0"
            ]
          },
          "metadata": {
            "tags": []
          },
          "execution_count": 10
        }
      ]
    },
    {
      "cell_type": "code",
      "metadata": {
        "id": "tPNbXNTSnIFe",
        "colab_type": "code",
        "outputId": "c0ee3e71-90ad-4269-bf31-59d98f3316a2",
        "colab": {
          "base_uri": "https://localhost:8080/",
          "height": 335
        }
      },
      "source": [
        "trn_nickel.hist()"
      ],
      "execution_count": 11,
      "outputs": [
        {
          "output_type": "execute_result",
          "data": {
            "text/plain": [
              "array([[<matplotlib.axes._subplots.AxesSubplot object at 0x7fdd0723c358>,\n",
              "        <matplotlib.axes._subplots.AxesSubplot object at 0x7fdcf0391c18>]],\n",
              "      dtype=object)"
            ]
          },
          "metadata": {
            "tags": []
          },
          "execution_count": 11
        },
        {
          "output_type": "display_data",
          "data": {
            "image/png": "[encoded data removed]",
            "text/plain": [
              "<Figure size 432x288 with 2 Axes>"
            ]
          },
          "metadata": {
            "tags": []
          }
        }
      ]
    },
    {
      "cell_type": "code",
      "metadata": {
        "id": "qciDsDv2ARyZ",
        "colab_type": "code",
        "colab": {}
      },
      "source": [
        "trn_predict = trn_nickel.loc[0:(len(trn_nickel))-251] #일반적인 트레이닝을 위한 데이터셋\n",
        "trn_forecasting = trn_nickel.loc[(len(trn_nickel)-250):len(trn_nickel),:] #모형학습 후 예측력을 보기 위한 테스트셋"
      ],
      "execution_count": 0,
      "outputs": []
    },
    {
      "cell_type": "code",
      "metadata": {
        "id": "uvEnPMJrARyb",
        "colab_type": "code",
        "outputId": "57f1badd-86d6-4525-fce7-a0e9fc02d11a",
        "colab": {
          "base_uri": "https://localhost:8080/",
          "height": 204
        }
      },
      "source": [
        "trn_forecasting.head()"
      ],
      "execution_count": 13,
      "outputs": [
        {
          "output_type": "execute_result",
          "data": {
            "text/html": [
              "<div>\n",
              "<style scoped>\n",
              "    .dataframe tbody tr th:only-of-type {\n",
              "        vertical-align: middle;\n",
              "    }\n",
              "\n",
              "    .dataframe tbody tr th {\n",
              "        vertical-align: top;\n",
              "    }\n",
              "\n",
              "    .dataframe thead th {\n",
              "        text-align: right;\n",
              "    }\n",
              "</style>\n",
              "<table border=\"1\" class=\"dataframe\">\n",
              "  <thead>\n",
              "    <tr style=\"text-align: right;\">\n",
              "      <th></th>\n",
              "      <th>Date</th>\n",
              "      <th>Nickel</th>\n",
              "      <th>Nickel (t-1)</th>\n",
              "    </tr>\n",
              "  </thead>\n",
              "  <tbody>\n",
              "    <tr>\n",
              "      <th>7286</th>\n",
              "      <td>27-Dec-89</td>\n",
              "      <td>8425</td>\n",
              "      <td>8400.0</td>\n",
              "    </tr>\n",
              "    <tr>\n",
              "      <th>7287</th>\n",
              "      <td>22-Dec-89</td>\n",
              "      <td>8700</td>\n",
              "      <td>8425.0</td>\n",
              "    </tr>\n",
              "    <tr>\n",
              "      <th>7288</th>\n",
              "      <td>21-Dec-89</td>\n",
              "      <td>8725</td>\n",
              "      <td>8700.0</td>\n",
              "    </tr>\n",
              "    <tr>\n",
              "      <th>7289</th>\n",
              "      <td>20-Dec-89</td>\n",
              "      <td>9150</td>\n",
              "      <td>8725.0</td>\n",
              "    </tr>\n",
              "    <tr>\n",
              "      <th>7290</th>\n",
              "      <td>19-Dec-89</td>\n",
              "      <td>9500</td>\n",
              "      <td>9150.0</td>\n",
              "    </tr>\n",
              "  </tbody>\n",
              "</table>\n",
              "</div>"
            ],
            "text/plain": [
              "           Date  Nickel  Nickel (t-1)\n",
              "7286  27-Dec-89    8425        8400.0\n",
              "7287  22-Dec-89    8700        8425.0\n",
              "7288  21-Dec-89    8725        8700.0\n",
              "7289  20-Dec-89    9150        8725.0\n",
              "7290  19-Dec-89    9500        9150.0"
            ]
          },
          "metadata": {
            "tags": []
          },
          "execution_count": 13
        }
      ]
    },
    {
      "cell_type": "code",
      "metadata": {
        "id": "lHNaP19sARyd",
        "colab_type": "code",
        "outputId": "358bd9c8-a780-4c56-9379-77b7de39380c",
        "colab": {
          "base_uri": "https://localhost:8080/",
          "height": 204
        }
      },
      "source": [
        "trn_forecasting.tail()"
      ],
      "execution_count": 14,
      "outputs": [
        {
          "output_type": "execute_result",
          "data": {
            "text/html": [
              "<div>\n",
              "<style scoped>\n",
              "    .dataframe tbody tr th:only-of-type {\n",
              "        vertical-align: middle;\n",
              "    }\n",
              "\n",
              "    .dataframe tbody tr th {\n",
              "        vertical-align: top;\n",
              "    }\n",
              "\n",
              "    .dataframe thead th {\n",
              "        text-align: right;\n",
              "    }\n",
              "</style>\n",
              "<table border=\"1\" class=\"dataframe\">\n",
              "  <thead>\n",
              "    <tr style=\"text-align: right;\">\n",
              "      <th></th>\n",
              "      <th>Date</th>\n",
              "      <th>Nickel</th>\n",
              "      <th>Nickel (t-1)</th>\n",
              "    </tr>\n",
              "  </thead>\n",
              "  <tbody>\n",
              "    <tr>\n",
              "      <th>7531</th>\n",
              "      <td>09-Jan-89</td>\n",
              "      <td>16000</td>\n",
              "      <td>17000.0</td>\n",
              "    </tr>\n",
              "    <tr>\n",
              "      <th>7532</th>\n",
              "      <td>06-Jan-89</td>\n",
              "      <td>17600</td>\n",
              "      <td>16000.0</td>\n",
              "    </tr>\n",
              "    <tr>\n",
              "      <th>7533</th>\n",
              "      <td>05-Jan-89</td>\n",
              "      <td>19200</td>\n",
              "      <td>17600.0</td>\n",
              "    </tr>\n",
              "    <tr>\n",
              "      <th>7534</th>\n",
              "      <td>04-Jan-89</td>\n",
              "      <td>19150</td>\n",
              "      <td>19200.0</td>\n",
              "    </tr>\n",
              "    <tr>\n",
              "      <th>7535</th>\n",
              "      <td>03-Jan-89</td>\n",
              "      <td>18800</td>\n",
              "      <td>19150.0</td>\n",
              "    </tr>\n",
              "  </tbody>\n",
              "</table>\n",
              "</div>"
            ],
            "text/plain": [
              "           Date  Nickel  Nickel (t-1)\n",
              "7531  09-Jan-89   16000       17000.0\n",
              "7532  06-Jan-89   17600       16000.0\n",
              "7533  05-Jan-89   19200       17600.0\n",
              "7534  04-Jan-89   19150       19200.0\n",
              "7535  03-Jan-89   18800       19150.0"
            ]
          },
          "metadata": {
            "tags": []
          },
          "execution_count": 14
        }
      ]
    },
    {
      "cell_type": "code",
      "metadata": {
        "scrolled": false,
        "id": "cWw1KuzvARyh",
        "colab_type": "code",
        "outputId": "e27f5f4b-e554-409f-c418-ab15684a4fd0",
        "colab": {
          "base_uri": "https://localhost:8080/",
          "height": 215
        }
      },
      "source": [
        "trn_predict[\"T=-1_cat\"] = np.ceil(trn_predict[\"Nickel (t-1)\"] / 3000) #올림 함수(ciel)을 이용해서 카테고리를 나눔\n",
        "trn_predict[\"T=-1_cat\"].where(trn_predict[\"T=-1_cat\"] < 9, 9.0, inplace=True)\n",
        "trn_predict[\"T=-1_cat\"].where(trn_predict[\"T=-1_cat\"] > 2, 2.0, inplace=True)"
      ],
      "execution_count": 15,
      "outputs": [
        {
          "output_type": "stream",
          "text": [
            "/usr/local/lib/python3.6/dist-packages/ipykernel_launcher.py:1: SettingWithCopyWarning: \n",
            "A value is trying to be set on a copy of a slice from a DataFrame.\n",
            "Try using .loc[row_indexer,col_indexer] = value instead\n",
            "\n",
            "See the caveats in the documentation: http://pandas.pydata.org/pandas-docs/stable/indexing.html#indexing-view-versus-copy\n",
            "  \"\"\"Entry point for launching an IPython kernel.\n",
            "/usr/local/lib/python3.6/dist-packages/pandas/core/generic.py:8682: SettingWithCopyWarning: \n",
            "A value is trying to be set on a copy of a slice from a DataFrame\n",
            "\n",
            "See the caveats in the documentation: http://pandas.pydata.org/pandas-docs/stable/indexing.html#indexing-view-versus-copy\n",
            "  self._update_inplace(new_data)\n"
          ],
          "name": "stderr"
        }
      ]
    },
    {
      "cell_type": "code",
      "metadata": {
        "id": "b_PunpXYgS7R",
        "colab_type": "code",
        "outputId": "b1b6f34f-59de-40b7-ffe5-5b6cc6cbee95",
        "colab": {
          "base_uri": "https://localhost:8080/",
          "height": 179
        }
      },
      "source": [
        "trn_predict[\"T=-1_cat\"].value_counts()"
      ],
      "execution_count": 16,
      "outputs": [
        {
          "output_type": "execute_result",
          "data": {
            "text/plain": [
              "3.0    2392\n",
              "4.0     984\n",
              "5.0     959\n",
              "2.0     921\n",
              "6.0     713\n",
              "9.0     626\n",
              "7.0     437\n",
              "8.0     254\n",
              "Name: T=-1_cat, dtype: int64"
            ]
          },
          "metadata": {
            "tags": []
          },
          "execution_count": 16
        }
      ]
    },
    {
      "cell_type": "code",
      "metadata": {
        "id": "k9lqUHWpgEYW",
        "colab_type": "code",
        "outputId": "5c167d4e-4903-432c-e90d-29397bbffeb7",
        "colab": {
          "base_uri": "https://localhost:8080/",
          "height": 287
        }
      },
      "source": [
        "trn_predict[\"T=-1_cat\"].hist()"
      ],
      "execution_count": 17,
      "outputs": [
        {
          "output_type": "execute_result",
          "data": {
            "text/plain": [
              "<matplotlib.axes._subplots.AxesSubplot at 0x7fdcf0deda90>"
            ]
          },
          "metadata": {
            "tags": []
          },
          "execution_count": 17
        },
        {
          "output_type": "display_data",
          "data": {
            "image/png": "[encoded data removed]",
            "text/plain": [
              "<Figure size 432x288 with 1 Axes>"
            ]
          },
          "metadata": {
            "tags": []
          }
        }
      ]
    },
    {
      "cell_type": "code",
      "metadata": {
        "id": "SBLwRv9Reb34",
        "colab_type": "code",
        "outputId": "c1f634f4-b797-4bf4-8162-dd86632bb4e7",
        "colab": {
          "base_uri": "https://localhost:8080/",
          "height": 35
        }
      },
      "source": [
        "trn_predict['T=-1_cat'].unique()"
      ],
      "execution_count": 18,
      "outputs": [
        {
          "output_type": "execute_result",
          "data": {
            "text/plain": [
              "array([4., 5., 6., 3., 7., 8., 9., 2.])"
            ]
          },
          "metadata": {
            "tags": []
          },
          "execution_count": 18
        }
      ]
    },
    {
      "cell_type": "code",
      "metadata": {
        "id": "yaaZBIClARyj",
        "colab_type": "code",
        "colab": {}
      },
      "source": [
        "from sklearn.model_selection import train_test_split\n",
        "\n",
        "train_set, test_set = train_test_split(trn_predict, test_size=0.3, random_state=42, stratify=trn_predict['T=-1_cat']) #split 함수에서 stratify 옵션을 사용하면 알아서 분포별로 나눠줌."
      ],
      "execution_count": 0,
      "outputs": []
    },
    {
      "cell_type": "code",
      "metadata": {
        "id": "ccL6s0goVkbU",
        "colab_type": "code",
        "outputId": "311a5944-054a-4b0d-d195-8d5d5db715b8",
        "colab": {
          "base_uri": "https://localhost:8080/",
          "height": 287
        }
      },
      "source": [
        "train_set[\"T=-1_cat\"].hist()"
      ],
      "execution_count": 20,
      "outputs": [
        {
          "output_type": "execute_result",
          "data": {
            "text/plain": [
              "<matplotlib.axes._subplots.AxesSubplot at 0x7fdce4304f28>"
            ]
          },
          "metadata": {
            "tags": []
          },
          "execution_count": 20
        },
        {
          "output_type": "display_data",
          "data": {
            "image/png": "[encoded data removed]",
            "text/plain": [
              "<Figure size 432x288 with 1 Axes>"
            ]
          },
          "metadata": {
            "tags": []
          }
        }
      ]
    },
    {
      "cell_type": "code",
      "metadata": {
        "id": "DUkHCy5PARyl",
        "colab_type": "code",
        "colab": {}
      },
      "source": [
        "X_train = train_set.drop(\"Nickel\", axis=1)\n",
        "X_train = X_train.drop(\"Date\", axis=1)\n",
        "X_train = X_train.drop(\"T=-1_cat\", axis=1)  #X_train은 train set에서 시차변수들만을 남겨둠\n",
        "y_train = train_set[\"Nickel\"].values  #y_train은 train set에서 당일의 데이터만 남겨둠\n",
        "X_test = test_set.drop(\"Nickel\", axis=1)\n",
        "X_test = X_test.drop(\"Date\", axis=1)\n",
        "X_test = X_test.drop(\"T=-1_cat\", axis=1) #x_test set은 test set에서 시차변수들만 남김\n",
        "y_test = test_set[\"Nickel\"].values #y_test set은 \n",
        "X_forecast = trn_forecasting.drop(\"Nickel\", axis=1)\n",
        "X_forecast = X_forecast.drop(\"Date\", axis=1) #X_forecast는 forecast 하기 위해 떼어놓은 데이터셋에서 시차변수만 남김\n",
        "y_forecast = trn_forecasting[\"Nickel\"].values # y_forecast는 forecast하기 위해 떼어놓은 데이터셋에서 당일값만 남김"
      ],
      "execution_count": 0,
      "outputs": []
    },
    {
      "cell_type": "code",
      "metadata": {
        "id": "yeeVmx51y5yM",
        "colab_type": "code",
        "outputId": "62467106-30d4-4f4a-e305-8996fcf8b593",
        "colab": {
          "base_uri": "https://localhost:8080/",
          "height": 35
        }
      },
      "source": [
        "y_train"
      ],
      "execution_count": 22,
      "outputs": [
        {
          "output_type": "execute_result",
          "data": {
            "text/plain": [
              "array([ 9755, 31225,  9280, ..., 13920, 14500, 33150])"
            ]
          },
          "metadata": {
            "tags": []
          },
          "execution_count": 22
        }
      ]
    },
    {
      "cell_type": "code",
      "metadata": {
        "id": "mZ4l1DFKsgrF",
        "colab_type": "code",
        "colab": {}
      },
      "source": [
        "from sklearn.preprocessing import MinMaxScaler\n",
        "\n",
        "scaler = MinMaxScaler()\n",
        "X_train_scaled = scaler.fit_transform(X_train)\n",
        "X_test_scaled = scaler.transform(X_test)\n",
        "X_forecast_scaled = scaler.transform(X_forecast)"
      ],
      "execution_count": 0,
      "outputs": []
    },
    {
      "cell_type": "code",
      "metadata": {
        "id": "vUDmmYF5ARyn",
        "colab_type": "code",
        "colab": {}
      },
      "source": [
        "import tensorflow as tf\n",
        "\n",
        "def next_batch(num, data, labels):\n",
        "    '''\n",
        "    Return a total of `num` random samples and labels. \n",
        "    '''\n",
        "    idx = np.arange(0 , len(data))   #data 길이에 대응되는 인덱스를 뽑아냄\n",
        "    np.random.shuffle(idx) #그 인덱스를 랜덤하게 셔플함\n",
        "    idx = idx[:num] #셔플된 인덱스를 우리가 원하는 배치 크기만큼만 뽑아냄\n",
        "    data_shuffle = [data[ i] for i in idx] #뽑아낸 인덱스에 대응되는 데이터 값을 찾아냄\n",
        "    labels_shuffle = [np.array(labels[ i]) for i in idx] #i에 idx 값을 넣으면서 그 idx에 해당하는 label 값을 뽑아냄 그걸 array로 바꿔줌\n",
        "\n",
        "    return np.asarray(data_shuffle), np.asarray(labels_shuffle) #여러 array를 하나의 array로 변환\n",
        "  "
      ],
      "execution_count": 0,
      "outputs": []
    },
    {
      "cell_type": "code",
      "metadata": {
        "id": "15PrS8RQKyWy",
        "colab_type": "code",
        "colab": {}
      },
      "source": [
        "\n",
        "\n",
        "reset_graph()\n",
        "\n",
        "tf.set_random_seed(0)\n",
        "\n",
        "sigma = 1\n",
        "weight_initializer = tf.variance_scaling_initializer(mode=\"fan_avg\", distribution=\"uniform\", scale=sigma)\n",
        "bias_initializer = tf.zeros_initializer()\n",
        "\n",
        "accuracy_list = []\n",
        "\n",
        "n_inputs = 1\n",
        "n_hidden1 = 40\n",
        "n_hidden2 = 20\n",
        "n_hidden3 = 10\n",
        "n_hidden4 = 5\n",
        "n_outputs = 1\n",
        "\n",
        "net = tf.InteractiveSession()\n",
        "\n",
        "X = tf.placeholder(tf.float32, shape=[None, n_inputs], name=\"X\")\n",
        "y = tf.placeholder(tf.float32, shape=[None], name=\"y\") \n",
        "drop_rate=tf.placeholder(tf.float32, name=\"drop_rate\")\n",
        "# drop_rate=0.3\n",
        "\n",
        "# Layer 1: Variables for hidden weights and biases\n",
        "W_hidden_1 = tf.Variable(weight_initializer([n_inputs, n_hidden1]))\n",
        "bias_hidden_1 = tf.Variable(bias_initializer([n_hidden1]))\n",
        "scale1=tf.Variable(tf.ones([n_hidden1]))\n",
        "\n",
        "\n",
        "# Layer 2: Variables for hidden weights and biases\n",
        "W_hidden_2 = tf.Variable(weight_initializer([n_hidden1, n_hidden2]))\n",
        "bias_hidden_2 = tf.Variable(bias_initializer([n_hidden2]))\n",
        "scale2=tf.Variable(tf.ones([n_hidden2]))\n",
        "\n",
        "# Layer 3: Variables for hidden weights and biases\n",
        "W_hidden_3 = tf.Variable(weight_initializer([n_hidden2, n_hidden3]))\n",
        "bias_hidden_3 = tf.Variable(bias_initializer([n_hidden3]))\n",
        "scale3=tf.Variable(tf.ones([n_hidden3]))\n",
        "\n",
        "# Layer 4: Variables for hidden weights and biases\n",
        "W_hidden_4 = tf.Variable(weight_initializer([n_hidden3, n_hidden4]))\n",
        "bias_hidden_4 = tf.Variable(bias_initializer([n_hidden4]))\n",
        "scale4=tf.Variable(tf.ones([n_hidden4]))\n",
        "\n",
        "# Output layer: Variables for output weights and biases\n",
        "W_out = tf.Variable(weight_initializer([n_hidden4, n_outputs]))\n",
        "bias_out = tf.Variable(bias_initializer([n_outputs]))\n",
        "\n"
      ],
      "execution_count": 0,
      "outputs": []
    },
    {
      "cell_type": "code",
      "metadata": {
        "scrolled": true,
        "id": "bP_XRgpVARyr",
        "colab_type": "code",
        "outputId": "9c903c70-cd6f-4a95-f604-9561daef5d9a",
        "colab": {
          "base_uri": "https://localhost:8080/",
          "height": 917
        }
      },
      "source": [
        "np.random.seed(0)\n",
        "\n",
        "\n",
        "from datetime import datetime                                   #-----new------#\n",
        "now = datetime.utcnow().strftime(\"%H%M%S\")                      #-----new------#\n",
        "\n",
        "root_logdir = \"./logs\"                                          #-----new------#\n",
        "logdir = \"{}/{}_{}\".format(root_logdir, \"relu\", now)   #-----new------#\n",
        "\n",
        "batch_norm_switch=1 #1 is on, 0 is off\n",
        "\n",
        "with tf.name_scope(\"dnn\"):\n",
        "    _hidden_1 = tf.nn.relu(tf.add(tf.matmul(X, W_hidden_1), bias_hidden_1))\n",
        "    batch_mean1, batch_var1 =tf.nn.moments(_hidden_1,[0])\n",
        "    BN1_on=(batch_norm_switch)*tf.nn.batch_normalization(_hidden_1,batch_mean1,batch_var1,None,scale1,0.0000001)\n",
        "    BN1_off=(1-batch_norm_switch)*tf.nn.batch_normalization(_hidden_1,0,1,None,scale1,0.0000000001) # If batch normalization is needed then use upper line\n",
        "    BN1=BN1_on+BN1_off\n",
        "    hidden_1 = tf.nn.dropout(BN1,rate=drop_rate)\n",
        "\n",
        "    _hidden_2 = tf.nn.relu(tf.add(tf.matmul(hidden_1, W_hidden_2), bias_hidden_2))\n",
        "    batch_mean2, batch_var2 =tf.nn.moments(_hidden_2,[0])\n",
        "    BN2_on=(batch_norm_switch)*tf.nn.batch_normalization(_hidden_2,batch_mean2,batch_var2,None,scale2,0.0000001)\n",
        "    BN2_off=(1-batch_norm_switch)*tf.nn.batch_normalization(_hidden_2,0,1,None,scale2,0.0000000001) # If batch normalization is needed then use upper line\n",
        "    BN2=BN2_on+BN2_off\n",
        "    hidden_2 = tf.nn.dropout(BN2,rate=drop_rate)\n",
        "    \n",
        "    _hidden_3 = tf.nn.relu(tf.add(tf.matmul(hidden_2, W_hidden_3), bias_hidden_3))\n",
        "    batch_mean3, batch_var3 =tf.nn.moments(_hidden_3,[0])\n",
        "    BN3_on=(batch_norm_switch)*tf.nn.batch_normalization(_hidden_3,batch_mean3,batch_var3,None,scale3,0.0000001)\n",
        "    BN3_off=(1-batch_norm_switch)*tf.nn.batch_normalization(_hidden_3,0,1,None,scale3,0.0000000001) # If batch normalization is needed then use upper line\n",
        "    BN3=BN3_on+BN3_off\n",
        "    hidden_3 = tf.nn.dropout(BN3,rate=drop_rate)\n",
        "\n",
        "    _hidden_4 = tf.nn.relu(tf.add(tf.matmul(hidden_3, W_hidden_4), bias_hidden_4))\n",
        "    batch_mean4, batch_var4 =tf.nn.moments(_hidden_4,[0])\n",
        "    BN4_on=(batch_norm_switch)*tf.nn.batch_normalization(_hidden_4,batch_mean4,batch_var4,None,scale4,0.0000001)\n",
        "    BN4_off=(1-batch_norm_switch)*tf.nn.batch_normalization(_hidden_4,0,1,None,scale4,0.0000000001) # If batch normalization is needed then use upper line\n",
        "    BN4=BN4_on+BN4_off\n",
        "    hidden_4 = tf.nn.dropout(BN4,rate=drop_rate)\n",
        "\n",
        "    #     y_result = tf.layers.dense(hidden1, n_outputs, name=\"outputs\")\n",
        "    y_result = tf.transpose(tf.add(tf.matmul(hidden_4, W_out), bias_out))\n",
        "#     y_result = tf.add(tf.matmul(hidden_2, W_out), bias_out)\n",
        "   \n",
        "  \n",
        "\n",
        "with tf.name_scope(\"loss\"):\n",
        "    loss = tf.reduce_mean(tf.squared_difference(y,y_result))\n",
        "\n",
        "learning_rate = 0.045\n",
        "\n",
        "with tf.name_scope(\"train\"):\n",
        "    opt=tf.train.AdamOptimizer(learning_rate).minimize(loss)\n",
        "#     opt = tf.train.GradientDescentOptimizer(learning_rate).minimize(loss)\n",
        "#     opt=tf.train.RMSPropOptimizer(learning_rate).minimize(loss)\n",
        "#     opt=tf.train.AdadeltaOptimizer().minimize(loss)\n",
        "#     opt=tf.train.AdagradDA().minimize(loss)\n",
        "    \n",
        "init = tf.global_variables_initializer()\n",
        "\n",
        "loss_summary = tf.summary.scalar('loss', loss)                            #-----new------#\n",
        "merged = tf.summary.merge_all()                                            #-----new------#\n",
        "\n",
        "# train_writer = tf.summary.FileWriter(logdir + '/train', tf.get_default_graph())        #-----new------#\n",
        "# test_writer = tf.summary.FileWriter(logdir + '/test')                        #-----new------#\n",
        " \n",
        "n_epochs = 50\n",
        "batch_size = 250\n",
        "\n",
        "\n",
        "\n",
        "net.run(tf.global_variables_initializer())\n",
        "\n",
        "for epoch in range(n_epochs):\n",
        "#     X_batch, y_batch = next_batch(batch_size, X_train_scaled, y_train)\n",
        "    for iteration in range(len(X_train_scaled) // batch_size):\n",
        "        X_batch, y_batch = next_batch(batch_size, X_train_scaled, y_train)\n",
        "        net.run(opt, feed_dict={X: X_train_scaled, y: y_train, drop_rate: 0})\n",
        "#         net.run(opt, feed_dict={X: X_batch, y: y_batch})\n",
        "#     train_error, summary_train = net.run([loss, merged], feed_dict={X: X_train_scaled, y: y_train})\n",
        "    train_error, summary_train = net.run([loss, merged], feed_dict={X: X_batch, y: y_batch, drop_rate: 0})    #-----new------# \n",
        "    validation_error, summary_test = net.run([loss, merged], feed_dict={X: X_test_scaled, y: y_test, drop_rate: 0})     #-----new------#\n",
        "#     train_writer.add_summary(summary_train, epoch)       #-----new------#\n",
        "#     test_writer.add_summary(summary_test, epoch)         #-----new------#\n",
        "    accuracy_list.append(validation_error)\n",
        "\n",
        "    \n",
        "#     print(net.run([y_result], feed_dict={X: X_batch, y:y_batch}))      \n",
        "    print(epoch, \"Train MSE:\", train_error, \"Test MSE:\", validation_error)\n",
        "    if epoch >= 50:\n",
        "#             if abs(validation_error - np.mean(accuracy_list[int(round(len(accuracy_list)/2)):])) <= 0.1 :\n",
        "            if abs(validation_error - np.mean(accuracy_list[-5:])) <= 0.001 :\n",
        "               print(\"Validation error is converged\")  \n",
        "               break\n",
        "    \n",
        "forecast_result = np.zeros(250)\n",
        "for i in range(len(X_forecast_scaled)):\n",
        "    forecast_result[i] = net.run(y_result, feed_dict={X: np.expand_dims(X_forecast_scaled[i], axis=0), drop_rate: 0})"
      ],
      "execution_count": 34,
      "outputs": [
        {
          "output_type": "stream",
          "text": [
            "0 Train MSE: 241076220.0 Test MSE: 216787180.0\n",
            "1 Train MSE: 198815740.0 Test MSE: 216449700.0\n",
            "2 Train MSE: 182547220.0 Test MSE: 215842060.0\n",
            "3 Train MSE: 240123970.0 Test MSE: 214921700.0\n",
            "4 Train MSE: 200892780.0 Test MSE: 213677500.0\n",
            "5 Train MSE: 194045220.0 Test MSE: 212130780.0\n",
            "6 Train MSE: 235223330.0 Test MSE: 210309570.0\n",
            "7 Train MSE: 213165780.0 Test MSE: 208192830.0\n",
            "8 Train MSE: 225497200.0 Test MSE: 205845460.0\n",
            "9 Train MSE: 212944860.0 Test MSE: 203290610.0\n",
            "10 Train MSE: 201275170.0 Test MSE: 200562540.0\n",
            "11 Train MSE: 217749970.0 Test MSE: 197699020.0\n",
            "12 Train MSE: 206483330.0 Test MSE: 194739780.0\n",
            "13 Train MSE: 209900240.0 Test MSE: 191725380.0\n",
            "14 Train MSE: 159625260.0 Test MSE: 188691520.0\n",
            "15 Train MSE: 198851900.0 Test MSE: 185679650.0\n",
            "16 Train MSE: 187646060.0 Test MSE: 182725620.0\n",
            "17 Train MSE: 175034610.0 Test MSE: 179865120.0\n",
            "18 Train MSE: 164525310.0 Test MSE: 177125180.0\n",
            "19 Train MSE: 164305680.0 Test MSE: 174534270.0\n",
            "20 Train MSE: 181997220.0 Test MSE: 172112910.0\n",
            "21 Train MSE: 151088290.0 Test MSE: 169882270.0\n",
            "22 Train MSE: 178617950.0 Test MSE: 167852850.0\n",
            "23 Train MSE: 191934980.0 Test MSE: 166028740.0\n",
            "24 Train MSE: 177923040.0 Test MSE: 164414270.0\n",
            "25 Train MSE: 172360370.0 Test MSE: 163003680.0\n",
            "26 Train MSE: 173826830.0 Test MSE: 161790100.0\n",
            "27 Train MSE: 189993440.0 Test MSE: 160764430.0\n",
            "28 Train MSE: 153718480.0 Test MSE: 159908510.0\n",
            "29 Train MSE: 170067600.0 Test MSE: 159203310.0\n",
            "30 Train MSE: 159504700.0 Test MSE: 158635980.0\n",
            "31 Train MSE: 158601150.0 Test MSE: 158184060.0\n",
            "32 Train MSE: 161247140.0 Test MSE: 157836500.0\n",
            "33 Train MSE: 157166850.0 Test MSE: 157561230.0\n",
            "34 Train MSE: 157397540.0 Test MSE: 157355170.0\n",
            "35 Train MSE: 180168030.0 Test MSE: 157197300.0\n",
            "36 Train MSE: 157720380.0 Test MSE: 157082610.0\n",
            "37 Train MSE: 154069520.0 Test MSE: 156997940.0\n",
            "38 Train MSE: 178649760.0 Test MSE: 156934430.0\n",
            "39 Train MSE: 157466100.0 Test MSE: 156884240.0\n",
            "40 Train MSE: 152216420.0 Test MSE: 156855420.0\n",
            "41 Train MSE: 151340620.0 Test MSE: 156813070.0\n",
            "42 Train MSE: 188145870.0 Test MSE: 156788980.0\n",
            "43 Train MSE: 153557800.0 Test MSE: 156769000.0\n",
            "44 Train MSE: 136154430.0 Test MSE: 156747500.0\n",
            "45 Train MSE: 159647340.0 Test MSE: 156726740.0\n",
            "46 Train MSE: 157778200.0 Test MSE: 156707540.0\n",
            "47 Train MSE: 165581700.0 Test MSE: 156687940.0\n",
            "48 Train MSE: 161052670.0 Test MSE: 156668130.0\n",
            "49 Train MSE: 172644740.0 Test MSE: 156647730.0\n"
          ],
          "name": "stdout"
        }
      ]
    },
    {
      "cell_type": "code",
      "metadata": {
        "id": "OEURHeSbEslm",
        "colab_type": "code",
        "colab": {
          "base_uri": "https://localhost:8080/",
          "height": 1000
        },
        "outputId": "3b9619f4-1c18-4467-a43a-e4b82d9219c6"
      },
      "source": [
        "net.run(BN1)"
      ],
      "execution_count": 39,
      "outputs": [
        {
          "output_type": "error",
          "ename": "InvalidArgumentError",
          "evalue": "ignored",
          "traceback": [
            "\u001b[0;31m---------------------------------------------------------------------------\u001b[0m",
            "\u001b[0;31mInvalidArgumentError\u001b[0m                      Traceback (most recent call last)",
            "\u001b[0;32m/usr/local/lib/python3.6/dist-packages/tensorflow_core/python/client/session.py\u001b[0m in \u001b[0;36m_do_call\u001b[0;34m(self, fn, *args)\u001b[0m\n\u001b[1;32m   1364\u001b[0m     \u001b[0;32mtry\u001b[0m\u001b[0;34m:\u001b[0m\u001b[0;34m\u001b[0m\u001b[0;34m\u001b[0m\u001b[0m\n\u001b[0;32m-> 1365\u001b[0;31m       \u001b[0;32mreturn\u001b[0m \u001b[0mfn\u001b[0m\u001b[0;34m(\u001b[0m\u001b[0;34m*\u001b[0m\u001b[0margs\u001b[0m\u001b[0;34m)\u001b[0m\u001b[0;34m\u001b[0m\u001b[0;34m\u001b[0m\u001b[0m\n\u001b[0m\u001b[1;32m   1366\u001b[0m     \u001b[0;32mexcept\u001b[0m \u001b[0merrors\u001b[0m\u001b[0;34m.\u001b[0m\u001b[0mOpError\u001b[0m \u001b[0;32mas\u001b[0m \u001b[0me\u001b[0m\u001b[0;34m:\u001b[0m\u001b[0;34m\u001b[0m\u001b[0;34m\u001b[0m\u001b[0m\n",
            "\u001b[0;32m/usr/local/lib/python3.6/dist-packages/tensorflow_core/python/client/session.py\u001b[0m in \u001b[0;36m_run_fn\u001b[0;34m(feed_dict, fetch_list, target_list, options, run_metadata)\u001b[0m\n\u001b[1;32m   1349\u001b[0m       return self._call_tf_sessionrun(options, feed_dict, fetch_list,\n\u001b[0;32m-> 1350\u001b[0;31m                                       target_list, run_metadata)\n\u001b[0m\u001b[1;32m   1351\u001b[0m \u001b[0;34m\u001b[0m\u001b[0m\n",
            "\u001b[0;32m/usr/local/lib/python3.6/dist-packages/tensorflow_core/python/client/session.py\u001b[0m in \u001b[0;36m_call_tf_sessionrun\u001b[0;34m(self, options, feed_dict, fetch_list, target_list, run_metadata)\u001b[0m\n\u001b[1;32m   1442\u001b[0m                                             \u001b[0mfetch_list\u001b[0m\u001b[0;34m,\u001b[0m \u001b[0mtarget_list\u001b[0m\u001b[0;34m,\u001b[0m\u001b[0;34m\u001b[0m\u001b[0;34m\u001b[0m\u001b[0m\n\u001b[0;32m-> 1443\u001b[0;31m                                             run_metadata)\n\u001b[0m\u001b[1;32m   1444\u001b[0m \u001b[0;34m\u001b[0m\u001b[0m\n",
            "\u001b[0;31mInvalidArgumentError\u001b[0m: You must feed a value for placeholder tensor 'X' with dtype float and shape [?,1]\n\t [[{{node X}}]]",
            "\nDuring handling of the above exception, another exception occurred:\n",
            "\u001b[0;31mInvalidArgumentError\u001b[0m                      Traceback (most recent call last)",
            "\u001b[0;32m<ipython-input-39-31b4aa8d4fa5>\u001b[0m in \u001b[0;36m<module>\u001b[0;34m()\u001b[0m\n\u001b[0;32m----> 1\u001b[0;31m \u001b[0mnet\u001b[0m\u001b[0;34m.\u001b[0m\u001b[0mrun\u001b[0m\u001b[0;34m(\u001b[0m\u001b[0mBN1\u001b[0m\u001b[0;34m)\u001b[0m\u001b[0;34m\u001b[0m\u001b[0;34m\u001b[0m\u001b[0m\n\u001b[0m",
            "\u001b[0;32m/usr/local/lib/python3.6/dist-packages/tensorflow_core/python/client/session.py\u001b[0m in \u001b[0;36mrun\u001b[0;34m(self, fetches, feed_dict, options, run_metadata)\u001b[0m\n\u001b[1;32m    954\u001b[0m     \u001b[0;32mtry\u001b[0m\u001b[0;34m:\u001b[0m\u001b[0;34m\u001b[0m\u001b[0;34m\u001b[0m\u001b[0m\n\u001b[1;32m    955\u001b[0m       result = self._run(None, fetches, feed_dict, options_ptr,\n\u001b[0;32m--> 956\u001b[0;31m                          run_metadata_ptr)\n\u001b[0m\u001b[1;32m    957\u001b[0m       \u001b[0;32mif\u001b[0m \u001b[0mrun_metadata\u001b[0m\u001b[0;34m:\u001b[0m\u001b[0;34m\u001b[0m\u001b[0;34m\u001b[0m\u001b[0m\n\u001b[1;32m    958\u001b[0m         \u001b[0mproto_data\u001b[0m \u001b[0;34m=\u001b[0m \u001b[0mtf_session\u001b[0m\u001b[0;34m.\u001b[0m\u001b[0mTF_GetBuffer\u001b[0m\u001b[0;34m(\u001b[0m\u001b[0mrun_metadata_ptr\u001b[0m\u001b[0;34m)\u001b[0m\u001b[0;34m\u001b[0m\u001b[0;34m\u001b[0m\u001b[0m\n",
            "\u001b[0;32m/usr/local/lib/python3.6/dist-packages/tensorflow_core/python/client/session.py\u001b[0m in \u001b[0;36m_run\u001b[0;34m(self, handle, fetches, feed_dict, options, run_metadata)\u001b[0m\n\u001b[1;32m   1178\u001b[0m     \u001b[0;32mif\u001b[0m \u001b[0mfinal_fetches\u001b[0m \u001b[0;32mor\u001b[0m \u001b[0mfinal_targets\u001b[0m \u001b[0;32mor\u001b[0m \u001b[0;34m(\u001b[0m\u001b[0mhandle\u001b[0m \u001b[0;32mand\u001b[0m \u001b[0mfeed_dict_tensor\u001b[0m\u001b[0;34m)\u001b[0m\u001b[0;34m:\u001b[0m\u001b[0;34m\u001b[0m\u001b[0;34m\u001b[0m\u001b[0m\n\u001b[1;32m   1179\u001b[0m       results = self._do_run(handle, final_targets, final_fetches,\n\u001b[0;32m-> 1180\u001b[0;31m                              feed_dict_tensor, options, run_metadata)\n\u001b[0m\u001b[1;32m   1181\u001b[0m     \u001b[0;32melse\u001b[0m\u001b[0;34m:\u001b[0m\u001b[0;34m\u001b[0m\u001b[0;34m\u001b[0m\u001b[0m\n\u001b[1;32m   1182\u001b[0m       \u001b[0mresults\u001b[0m \u001b[0;34m=\u001b[0m \u001b[0;34m[\u001b[0m\u001b[0;34m]\u001b[0m\u001b[0;34m\u001b[0m\u001b[0;34m\u001b[0m\u001b[0m\n",
            "\u001b[0;32m/usr/local/lib/python3.6/dist-packages/tensorflow_core/python/client/session.py\u001b[0m in \u001b[0;36m_do_run\u001b[0;34m(self, handle, target_list, fetch_list, feed_dict, options, run_metadata)\u001b[0m\n\u001b[1;32m   1357\u001b[0m     \u001b[0;32mif\u001b[0m \u001b[0mhandle\u001b[0m \u001b[0;32mis\u001b[0m \u001b[0;32mNone\u001b[0m\u001b[0;34m:\u001b[0m\u001b[0;34m\u001b[0m\u001b[0;34m\u001b[0m\u001b[0m\n\u001b[1;32m   1358\u001b[0m       return self._do_call(_run_fn, feeds, fetches, targets, options,\n\u001b[0;32m-> 1359\u001b[0;31m                            run_metadata)\n\u001b[0m\u001b[1;32m   1360\u001b[0m     \u001b[0;32melse\u001b[0m\u001b[0;34m:\u001b[0m\u001b[0;34m\u001b[0m\u001b[0;34m\u001b[0m\u001b[0m\n\u001b[1;32m   1361\u001b[0m       \u001b[0;32mreturn\u001b[0m \u001b[0mself\u001b[0m\u001b[0;34m.\u001b[0m\u001b[0m_do_call\u001b[0m\u001b[0;34m(\u001b[0m\u001b[0m_prun_fn\u001b[0m\u001b[0;34m,\u001b[0m \u001b[0mhandle\u001b[0m\u001b[0;34m,\u001b[0m \u001b[0mfeeds\u001b[0m\u001b[0;34m,\u001b[0m \u001b[0mfetches\u001b[0m\u001b[0;34m)\u001b[0m\u001b[0;34m\u001b[0m\u001b[0;34m\u001b[0m\u001b[0m\n",
            "\u001b[0;32m/usr/local/lib/python3.6/dist-packages/tensorflow_core/python/client/session.py\u001b[0m in \u001b[0;36m_do_call\u001b[0;34m(self, fn, *args)\u001b[0m\n\u001b[1;32m   1382\u001b[0m                     \u001b[0;34m'\\nsession_config.graph_options.rewrite_options.'\u001b[0m\u001b[0;34m\u001b[0m\u001b[0;34m\u001b[0m\u001b[0m\n\u001b[1;32m   1383\u001b[0m                     'disable_meta_optimizer = True')\n\u001b[0;32m-> 1384\u001b[0;31m       \u001b[0;32mraise\u001b[0m \u001b[0mtype\u001b[0m\u001b[0;34m(\u001b[0m\u001b[0me\u001b[0m\u001b[0;34m)\u001b[0m\u001b[0;34m(\u001b[0m\u001b[0mnode_def\u001b[0m\u001b[0;34m,\u001b[0m \u001b[0mop\u001b[0m\u001b[0;34m,\u001b[0m \u001b[0mmessage\u001b[0m\u001b[0;34m)\u001b[0m\u001b[0;34m\u001b[0m\u001b[0;34m\u001b[0m\u001b[0m\n\u001b[0m\u001b[1;32m   1385\u001b[0m \u001b[0;34m\u001b[0m\u001b[0m\n\u001b[1;32m   1386\u001b[0m   \u001b[0;32mdef\u001b[0m \u001b[0m_extend_graph\u001b[0m\u001b[0;34m(\u001b[0m\u001b[0mself\u001b[0m\u001b[0;34m)\u001b[0m\u001b[0;34m:\u001b[0m\u001b[0;34m\u001b[0m\u001b[0;34m\u001b[0m\u001b[0m\n",
            "\u001b[0;31mInvalidArgumentError\u001b[0m: You must feed a value for placeholder tensor 'X' with dtype float and shape [?,1]\n\t [[node X (defined at /usr/local/lib/python3.6/dist-packages/tensorflow_core/python/framework/ops.py:1748) ]]\n\nOriginal stack trace for 'X':\n  File \"/usr/lib/python3.6/runpy.py\", line 193, in _run_module_as_main\n    \"__main__\", mod_spec)\n  File \"/usr/lib/python3.6/runpy.py\", line 85, in _run_code\n    exec(code, run_globals)\n  File \"/usr/local/lib/python3.6/dist-packages/ipykernel_launcher.py\", line 16, in <module>\n    app.launch_new_instance()\n  File \"/usr/local/lib/python3.6/dist-packages/traitlets/config/application.py\", line 664, in launch_instance\n    app.start()\n  File \"/usr/local/lib/python3.6/dist-packages/ipykernel/kernelapp.py\", line 477, in start\n    ioloop.IOLoop.instance().start()\n  File \"/usr/local/lib/python3.6/dist-packages/tornado/ioloop.py\", line 832, in start\n    self._run_callback(self._callbacks.popleft())\n  File \"/usr/local/lib/python3.6/dist-packages/tornado/ioloop.py\", line 605, in _run_callback\n    ret = callback()\n  File \"/usr/local/lib/python3.6/dist-packages/tornado/stack_context.py\", line 277, in null_wrapper\n    return fn(*args, **kwargs)\n  File \"/usr/local/lib/python3.6/dist-packages/zmq/eventloop/zmqstream.py\", line 536, in <lambda>\n    self.io_loop.add_callback(lambda : self._handle_events(self.socket, 0))\n  File \"/usr/local/lib/python3.6/dist-packages/zmq/eventloop/zmqstream.py\", line 450, in _handle_events\n    self._handle_recv()\n  File \"/usr/local/lib/python3.6/dist-packages/zmq/eventloop/zmqstream.py\", line 480, in _handle_recv\n    self._run_callback(callback, msg)\n  File \"/usr/local/lib/python3.6/dist-packages/zmq/eventloop/zmqstream.py\", line 432, in _run_callback\n    callback(*args, **kwargs)\n  File \"/usr/local/lib/python3.6/dist-packages/tornado/stack_context.py\", line 277, in null_wrapper\n    return fn(*args, **kwargs)\n  File \"/usr/local/lib/python3.6/dist-packages/ipykernel/kernelbase.py\", line 283, in dispatcher\n    return self.dispatch_shell(stream, msg)\n  File \"/usr/local/lib/python3.6/dist-packages/ipykernel/kernelbase.py\", line 235, in dispatch_shell\n    handler(stream, idents, msg)\n  File \"/usr/local/lib/python3.6/dist-packages/ipykernel/kernelbase.py\", line 399, in execute_request\n    user_expressions, allow_stdin)\n  File \"/usr/local/lib/python3.6/dist-packages/ipykernel/ipkernel.py\", line 196, in do_execute\n    res = shell.run_cell(code, store_history=store_history, silent=silent)\n  File \"/usr/local/lib/python3.6/dist-packages/ipykernel/zmqshell.py\", line 533, in run_cell\n    return super(ZMQInteractiveShell, self).run_cell(*args, **kwargs)\n  File \"/usr/local/lib/python3.6/dist-packages/IPython/core/interactiveshell.py\", line 2718, in run_cell\n    interactivity=interactivity, compiler=compiler, result=result)\n  File \"/usr/local/lib/python3.6/dist-packages/IPython/core/interactiveshell.py\", line 2822, in run_ast_nodes\n    if self.run_code(code, result):\n  File \"/usr/local/lib/python3.6/dist-packages/IPython/core/interactiveshell.py\", line 2882, in run_code\n    exec(code_obj, self.user_global_ns, self.user_ns)\n  File \"<ipython-input-25-dd30309da918>\", line 22, in <module>\n    X = tf.placeholder(tf.float32, shape=[None, n_inputs], name=\"X\")\n  File \"/usr/local/lib/python3.6/dist-packages/tensorflow_core/python/ops/array_ops.py\", line 2619, in placeholder\n    return gen_array_ops.placeholder(dtype=dtype, shape=shape, name=name)\n  File \"/usr/local/lib/python3.6/dist-packages/tensorflow_core/python/ops/gen_array_ops.py\", line 6669, in placeholder\n    \"Placeholder\", dtype=dtype, shape=shape, name=name)\n  File \"/usr/local/lib/python3.6/dist-packages/tensorflow_core/python/framework/op_def_library.py\", line 794, in _apply_op_helper\n    op_def=op_def)\n  File \"/usr/local/lib/python3.6/dist-packages/tensorflow_core/python/util/deprecation.py\", line 507, in new_func\n    return func(*args, **kwargs)\n  File \"/usr/local/lib/python3.6/dist-packages/tensorflow_core/python/framework/ops.py\", line 3357, in create_op\n    attrs, op_def, compute_device)\n  File \"/usr/local/lib/python3.6/dist-packages/tensorflow_core/python/framework/ops.py\", line 3426, in _create_op_internal\n    op_def=op_def)\n  File \"/usr/local/lib/python3.6/dist-packages/tensorflow_core/python/framework/ops.py\", line 1748, in __init__\n    self._traceback = tf_stack.extract_stack()\n"
          ]
        }
      ]
    },
    {
      "cell_type": "code",
      "metadata": {
        "id": "N_cGiTUD5hdR",
        "colab_type": "code",
        "outputId": "d49846b4-3dcd-4e91-8aca-991a9e4c1850",
        "colab": {
          "base_uri": "https://localhost:8080/",
          "height": 504
        }
      },
      "source": [
        "plt.figure(figsize=(15, 8))\n",
        "plt.plot(y_forecast)\n",
        "plt.plot(forecast_result)\n",
        "\n",
        "plt.legend(['real', 'predict'])\n",
        "result_percentage=np.mean(abs(forecast_result-y_forecast)/y_forecast*100)\n",
        "print(\"Forecasting Error is\", round(result_percentage,2),\"%\")"
      ],
      "execution_count": 35,
      "outputs": [
        {
          "output_type": "stream",
          "text": [
            "Forecasting Error is 99.65 %\n"
          ],
          "name": "stdout"
        },
        {
          "output_type": "display_data",
          "data": {
            "image/png": "[encoded data removed]",
            "text/plain": [
              "<Figure size 1080x576 with 1 Axes>"
            ]
          },
          "metadata": {
            "tags": []
          }
        }
      ]
    },
    {
      "cell_type": "code",
      "metadata": {
        "id": "352xEcA3vbig",
        "colab_type": "code",
        "colab": {}
      },
      "source": [
        ""
      ],
      "execution_count": 0,
      "outputs": []
    }
  ]
}